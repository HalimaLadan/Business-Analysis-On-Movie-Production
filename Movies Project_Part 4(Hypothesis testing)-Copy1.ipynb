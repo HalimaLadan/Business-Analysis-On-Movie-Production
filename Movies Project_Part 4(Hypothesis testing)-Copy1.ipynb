{
 "cells": [
  {
   "cell_type": "markdown",
   "id": "5d8f2747",
   "metadata": {},
   "source": [
    "## Importing Libraries"
   ]
  },
  {
   "cell_type": "code",
   "execution_count": 1,
   "id": "93f2f895",
   "metadata": {},
   "outputs": [],
   "source": [
    "# Import libraries\n",
    "import numpy as np\n",
    "import pandas as pd\n",
    "import matplotlib.pyplot as plt\n",
    "import seaborn as sns\n",
    "import json\n",
    "\n",
    "import pymysql\n",
    "pymysql.install_as_MySQLdb()\n",
    "from sqlalchemy.types import *\n",
    "from sqlalchemy_utils import create_database, database_exists\n",
    "from sqlalchemy import create_engine\n",
    "\n",
    "from scipy import stats\n",
    "from statsmodels.stats.multicomp import pairwise_tukeyhsd"
   ]
  },
  {
   "cell_type": "markdown",
   "id": "ccac6c2e",
   "metadata": {},
   "source": [
    "## Importing Data"
   ]
  },
  {
   "cell_type": "markdown",
   "id": "7a6d3f0b",
   "metadata": {},
   "source": [
    "# Hypothesis Testing\n",
    "\n",
    "\n",
    "Stakeholder Questions\n",
    "For each question:\n",
    "\n",
    "The stakeholder has requested statistical tests to obtain mathematically-supported answers to their questions.\n",
    "They would like to know if a statistically significant difference exists for each hypothesis.\n",
    "They would like to know the p-value of the test.\n",
    "They would like a visualization that supports the findings of the test."
   ]
  },
  {
   "cell_type": "markdown",
   "id": "ac864d3d",
   "metadata": {},
   "source": [
    "### Does the MPAA rating of a movie ('G', 'NC-17', 'NR', 'PG', 'PG-13', or 'R') affect how much revenue the movie generates?\n",
    "\n",
    "\n",
    "\n",
    "**Null Hypothesis:**\n",
    "\n",
    "he MPAA rating of a movie ('G', 'NC-17', 'NR', 'PG', 'PG-13', or 'R') DOES NOT affect how much revenue the movie generates?\n",
    "\n",
    "**Alternative Hypothesis:**\n",
    "\n",
    "The MPAA rating of a movie ('G', 'NC-17', 'NR', 'PG', 'PG-13', or 'R') DOES affect how much revenue the movie generates\n",
    "\n",
    "   - **Type of Data:**   \n",
    "        Numeric\n",
    "        \n",
    "        \n",
    "   - **Number of samples:**   \n",
    "   Multiple samples\n",
    "   \n",
    "   \n",
    "   - **Test type:**\n",
    "   \n",
    "   If parametric: ANOVA and/or Tukey\n",
    "   \n",
    "   If nonparametric: Kruskal-Wallis\n",
    "   \n",
    "   \n",
    "  \n",
    "   \n"
   ]
  },
  {
   "cell_type": "code",
   "execution_count": 30,
   "id": "69f9091b",
   "metadata": {},
   "outputs": [],
   "source": [
    "# Display the first 5 rows of the table using an SQL query\n",
    "q = \"\"\"\n",
    "SELECT revenue, certification\n",
    "FROM tmdb_data \n",
    "WHERE revenue > 0 AND certification IS NOT NULL\n",
    ";\"\"\"\n",
    "df =pd.read_sql(q, engine)"
   ]
  },
  {
   "cell_type": "code",
   "execution_count": 31,
   "id": "0ffe569d",
   "metadata": {},
   "outputs": [
    {
     "data": {
      "text/html": [
       "<div>\n",
       "<style scoped>\n",
       "    .dataframe tbody tr th:only-of-type {\n",
       "        vertical-align: middle;\n",
       "    }\n",
       "\n",
       "    .dataframe tbody tr th {\n",
       "        vertical-align: top;\n",
       "    }\n",
       "\n",
       "    .dataframe thead th {\n",
       "        text-align: right;\n",
       "    }\n",
       "</style>\n",
       "<table border=\"1\" class=\"dataframe\">\n",
       "  <thead>\n",
       "    <tr style=\"text-align: right;\">\n",
       "      <th></th>\n",
       "      <th>revenue</th>\n",
       "      <th>certification</th>\n",
       "    </tr>\n",
       "  </thead>\n",
       "  <tbody>\n",
       "    <tr>\n",
       "      <th>0</th>\n",
       "      <td>76019000.0</td>\n",
       "      <td>PG-13</td>\n",
       "    </tr>\n",
       "    <tr>\n",
       "      <th>1</th>\n",
       "      <td>5271670.0</td>\n",
       "      <td>PG-13</td>\n",
       "    </tr>\n",
       "    <tr>\n",
       "      <th>2</th>\n",
       "      <td>12855000.0</td>\n",
       "      <td>PG</td>\n",
       "    </tr>\n",
       "    <tr>\n",
       "      <th>3</th>\n",
       "      <td>5227350.0</td>\n",
       "      <td>R</td>\n",
       "    </tr>\n",
       "    <tr>\n",
       "      <th>4</th>\n",
       "      <td>14904.0</td>\n",
       "      <td>R</td>\n",
       "    </tr>\n",
       "  </tbody>\n",
       "</table>\n",
       "</div>"
      ],
      "text/plain": [
       "      revenue certification\n",
       "0  76019000.0         PG-13\n",
       "1   5271670.0         PG-13\n",
       "2  12855000.0            PG\n",
       "3   5227350.0             R\n",
       "4     14904.0             R"
      ]
     },
     "execution_count": 31,
     "metadata": {},
     "output_type": "execute_result"
    }
   ],
   "source": [
    "df.head()"
   ]
  },
  {
   "cell_type": "markdown",
   "id": "af0225e0",
   "metadata": {},
   "source": [
    "## Assumption Tests\n",
    "\n",
    "**Test for significant Outliers**"
   ]
  },
  {
   "cell_type": "code",
   "execution_count": 32,
   "id": "546c70f1",
   "metadata": {},
   "outputs": [
    {
     "data": {
      "text/plain": [
       "R         2303\n",
       "PG-13     1716\n",
       "PG         631\n",
       "NR         269\n",
       "G          128\n",
       "NC-17       22\n",
       "R            1\n",
       "PG-13        1\n",
       "Name: certification, dtype: int64"
      ]
     },
     "execution_count": 32,
     "metadata": {},
     "output_type": "execute_result"
    }
   ],
   "source": [
    "df['certification'].value_counts()"
   ]
  },
  {
   "cell_type": "code",
   "execution_count": 38,
   "id": "20cba20b",
   "metadata": {},
   "outputs": [
    {
     "data": {
      "text/plain": [
       "dict_keys(['PG-13', 'PG', 'R', 'G', 'NR', 'NC-17', 'R ', 'PG-13 '])"
      ]
     },
     "execution_count": 38,
     "metadata": {},
     "output_type": "execute_result"
    }
   ],
   "source": [
    "groups = {}\n",
    "for certification in df[\"certification\"].unique():\n",
    "    temp = df.loc[df[\"certification\"]== certification,\"revenue\"]\n",
    "    groups[certification ]= temp\n",
    "groups.keys()"
   ]
  },
  {
   "cell_type": "code",
   "execution_count": 39,
   "id": "d152ca17",
   "metadata": {},
   "outputs": [
    {
     "name": "stdout",
     "output_type": "stream",
     "text": [
      "Group PG-13: 39 outliers\n",
      "Group PG: 20 outliers\n",
      "Group R: 52 outliers\n",
      "Group G: 4 outliers\n",
      "Group NR: 6 outliers\n",
      "Group NC-17: 1 outliers\n",
      "Group R : 0 outliers\n",
      "Group PG-13 : 0 outliers\n",
      "All outliers have been removed\n"
     ]
    }
   ],
   "source": [
    "for certification, revenue in groups.items():\n",
    "    outliers = np.abs(stats.zscore(revenue))>3\n",
    "    print(f'Group {certification}: {outliers.sum()} outliers')\n",
    "    groups[certification] = revenue.loc[~outliers]\n",
    "print('All outliers have been removed')"
   ]
  },
  {
   "cell_type": "markdown",
   "id": "4afaa3d2",
   "metadata": {},
   "source": [
    "**The test for outliers is satisfied, since all outliers have been removed**"
   ]
  },
  {
   "cell_type": "markdown",
   "id": "4cb6c03f",
   "metadata": {},
   "source": [
    "**Test for Normality**"
   ]
  },
  {
   "cell_type": "markdown",
   "id": "232513f2",
   "metadata": {},
   "source": [
    "###### Using a loop to obtain group count and pvalues\n",
    "\n",
    "n_results = {}\n",
    "for certification, revenue in groups.items():\n",
    "    stat, p = stats.normaltest(revenue)\n",
    "    n_results[certification] = {\"n\":len(revenue), \"p\":p}"
   ]
  },
  {
   "cell_type": "code",
   "execution_count": null,
   "id": "89396c23",
   "metadata": {},
   "outputs": [],
   "source": [
    "# Display a dataframe created from the norm_results dictonary and transpose it \n",
    "pd.DataFrame(norm_results).T"
   ]
  },
  {
   "cell_type": "code",
   "execution_count": null,
   "id": "51854fc7",
   "metadata": {},
   "outputs": [],
   "source": [
    "# Create and display a dataframe created from the norm_results dictonary and transpose it \n",
    "norm_results_df = pd.DataFrame(norm_results).T\n",
    "# Add a column to indicate if the group pvalue was significant or not\n",
    "norm_results_df['sig?'] = norm_results_df['p'] < .05\n",
    "\n",
    "# Display the dataframe\n",
    "norm_results_df"
   ]
  },
  {
   "cell_type": "markdown",
   "id": "0f85036a",
   "metadata": {},
   "source": [
    "- We have large enough groups (each n>20) that we can safely disregard the assumption of normality, even though:\n",
    "- The groups do NOT come from normal distributions."
   ]
  },
  {
   "cell_type": "markdown",
   "id": "d9fcb9cb",
   "metadata": {},
   "source": [
    "**Assumption Equal Variance**"
   ]
  },
  {
   "cell_type": "code",
   "execution_count": null,
   "id": "876de1cd",
   "metadata": {},
   "outputs": [],
   "source": [
    "# Run the test and display the results\n",
    "statistic, pvalue = stats.levene(*groups.values())\n",
    "if pvalue < alpha:\n",
    "    print(f'The p-value for the test was {pvalue}')\n",
    "    print(f'It was < the alpha value of {alpha}, so')\n",
    "    print(ha_desc)\n",
    "    print(ha)\n",
    "else:\n",
    "    print(f'The p-value for the test was {pvalue}')\n",
    "    print(f'It was > the alpha value of {alpha}, so')\n",
    "    print(ho_desc)\n",
    "    print(ho)    "
   ]
  },
  {
   "cell_type": "code",
   "execution_count": null,
   "id": "2c77182a",
   "metadata": {},
   "outputs": [],
   "source": []
  },
  {
   "cell_type": "code",
   "execution_count": null,
   "id": "d1c132b6",
   "metadata": {},
   "outputs": [],
   "source": []
  },
  {
   "cell_type": "code",
   "execution_count": null,
   "id": "2a36241b",
   "metadata": {},
   "outputs": [],
   "source": []
  },
  {
   "cell_type": "code",
   "execution_count": null,
   "id": "b9ebda18",
   "metadata": {},
   "outputs": [],
   "source": []
  }
 ],
 "metadata": {
  "kernelspec": {
   "display_name": "Python (dojo-env)",
   "language": "python",
   "name": "dojo-env"
  },
  "language_info": {
   "codemirror_mode": {
    "name": "ipython",
    "version": 3
   },
   "file_extension": ".py",
   "mimetype": "text/x-python",
   "name": "python",
   "nbconvert_exporter": "python",
   "pygments_lexer": "ipython3",
   "version": "3.7.12"
  },
  "toc": {
   "base_numbering": 1,
   "nav_menu": {},
   "number_sections": true,
   "sideBar": true,
   "skip_h1_title": false,
   "title_cell": "Table of Contents",
   "title_sidebar": "Contents",
   "toc_cell": false,
   "toc_position": {},
   "toc_section_display": true,
   "toc_window_display": false
  }
 },
 "nbformat": 4,
 "nbformat_minor": 5
}
