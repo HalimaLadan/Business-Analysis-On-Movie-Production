{
 "cells": [
  {
   "cell_type": "markdown",
   "id": "8f08093b",
   "metadata": {},
   "source": [
    "# Business Analysis on Movie Production\n",
    "> ## TMDB EDA (Exploratory Data Analysis)"
   ]
  },
  {
   "cell_type": "markdown",
   "id": "a941615a",
   "metadata": {},
   "source": [
    "## Business Problem.\n",
    "\n",
    "The Data gotten from the previously combined TMDB files in phase two would be analysed and the answer to the following questions found through exploratory data analysis.( Exclude any movies with null values and 0's for budget AND revenue from the remaining visualizations.)\n",
    "\n",
    ">- How many movies had at least some valid financial information (values > 0 for budget OR revenue)?\n",
    "\n",
    ">- How many movies are there in each of the certification categories (G/PG/PG-13/R)?\n",
    "\n",
    ">- What is the average revenue per certification category?\n",
    "\n",
    ">- What is the average budget per certification category?"
   ]
  },
  {
   "cell_type": "markdown",
   "id": "46e9534a",
   "metadata": {},
   "source": [
    "## Importing libraries"
   ]
  },
  {
   "cell_type": "code",
   "execution_count": 1,
   "id": "1adc5be7",
   "metadata": {},
   "outputs": [],
   "source": [
    "import numpy as np\n",
    "import pandas as pd\n",
    "import matplotlib.pyplot as plt\n",
    "import seaborn as sns\n",
    "from matplotlib.ticker import StrMethodFormatter\n",
    "price_format = StrMethodFormatter(\"${x:,.0f}\")\n",
    "sns.set_style('white')"
   ]
  },
  {
   "cell_type": "markdown",
   "id": "c4f7a1b6",
   "metadata": {},
   "source": [
    "## Data"
   ]
  },
  {
   "cell_type": "markdown",
   "id": "939539f2",
   "metadata": {},
   "source": [
    "**loading the dataset from the year 2000 to 2020**"
   ]
  },
  {
   "cell_type": "code",
   "execution_count": 2,
   "id": "65ef5c88",
   "metadata": {},
   "outputs": [
    {
     "data": {
      "text/plain": [
       "['/Users/heill/OneDrive/Documents/Github/Database_Movies/Movies_files/tmdb_years\\\\final_tmdb_data_2000.csv.gz',\n",
       " '/Users/heill/OneDrive/Documents/Github/Database_Movies/Movies_files/tmdb_years\\\\final_tmdb_data_2001.csv.gz',\n",
       " '/Users/heill/OneDrive/Documents/Github/Database_Movies/Movies_files/tmdb_years\\\\final_tmdb_data_2002.csv.gz',\n",
       " '/Users/heill/OneDrive/Documents/Github/Database_Movies/Movies_files/tmdb_years\\\\final_tmdb_data_2003.csv.gz',\n",
       " '/Users/heill/OneDrive/Documents/Github/Database_Movies/Movies_files/tmdb_years\\\\final_tmdb_data_2004.csv.gz',\n",
       " '/Users/heill/OneDrive/Documents/Github/Database_Movies/Movies_files/tmdb_years\\\\final_tmdb_data_2005.csv.gz',\n",
       " '/Users/heill/OneDrive/Documents/Github/Database_Movies/Movies_files/tmdb_years\\\\final_tmdb_data_2006.csv.gz',\n",
       " '/Users/heill/OneDrive/Documents/Github/Database_Movies/Movies_files/tmdb_years\\\\final_tmdb_data_2007.csv.gz',\n",
       " '/Users/heill/OneDrive/Documents/Github/Database_Movies/Movies_files/tmdb_years\\\\final_tmdb_data_2008.csv.gz',\n",
       " '/Users/heill/OneDrive/Documents/Github/Database_Movies/Movies_files/tmdb_years\\\\final_tmdb_data_2009.csv.gz',\n",
       " '/Users/heill/OneDrive/Documents/Github/Database_Movies/Movies_files/tmdb_years\\\\final_tmdb_data_2010.csv.gz',\n",
       " '/Users/heill/OneDrive/Documents/Github/Database_Movies/Movies_files/tmdb_years\\\\final_tmdb_data_2011.csv.gz',\n",
       " '/Users/heill/OneDrive/Documents/Github/Database_Movies/Movies_files/tmdb_years\\\\final_tmdb_data_2012.csv.gz',\n",
       " '/Users/heill/OneDrive/Documents/Github/Database_Movies/Movies_files/tmdb_years\\\\final_tmdb_data_2013.csv.gz',\n",
       " '/Users/heill/OneDrive/Documents/Github/Database_Movies/Movies_files/tmdb_years\\\\final_tmdb_data_2014.csv.gz',\n",
       " '/Users/heill/OneDrive/Documents/Github/Database_Movies/Movies_files/tmdb_years\\\\final_tmdb_data_2015.csv.gz',\n",
       " '/Users/heill/OneDrive/Documents/Github/Database_Movies/Movies_files/tmdb_years\\\\final_tmdb_data_2016.csv.gz',\n",
       " '/Users/heill/OneDrive/Documents/Github/Database_Movies/Movies_files/tmdb_years\\\\final_tmdb_data_2017.csv.gz',\n",
       " '/Users/heill/OneDrive/Documents/Github/Database_Movies/Movies_files/tmdb_years\\\\final_tmdb_data_2018.csv.gz',\n",
       " '/Users/heill/OneDrive/Documents/Github/Database_Movies/Movies_files/tmdb_years\\\\final_tmdb_data_2019.csv.gz',\n",
       " '/Users/heill/OneDrive/Documents/Github/Database_Movies/Movies_files/tmdb_years\\\\final_tmdb_data_2020.csv.gz',\n",
       " '/Users/heill/OneDrive/Documents/Github/Database_Movies/Movies_files/tmdb_years\\\\final_tmdb_data_2021.csv.gz']"
      ]
     },
     "execution_count": 2,
     "metadata": {},
     "output_type": "execute_result"
    }
   ],
   "source": [
    "import glob\n",
    "\n",
    "# Get CSV files list from the saved folder\n",
    "path = \"/Users/heill/OneDrive/Documents/Github/Database_Movies/Movies_files/tmdb_years\"\n",
    "csv_files = glob.glob(path + \"/*.csv.gz\")\n",
    "csv_files"
   ]
  },
  {
   "cell_type": "code",
   "execution_count": 3,
   "id": "fff00e68",
   "metadata": {},
   "outputs": [],
   "source": [
    "# Read each CSV file into DataFrame\n",
    "# This creates a list of dataframes\n",
    "years_df = (pd.read_csv(file) for file in csv_files)\n",
    "\n",
    "# Concatenate all DataFrames\n",
    "tmdb_2000_2020   = pd.concat(years_df, ignore_index=True)\n",
    "\n",
    "# Remove the initial row which has null data\n",
    "tmdb_2000_2020= tmdb_2000_2020.loc[1:,:]"
   ]
  },
  {
   "cell_type": "code",
   "execution_count": 4,
   "id": "1bc962c0",
   "metadata": {},
   "outputs": [
    {
     "data": {
      "text/html": [
       "<div>\n",
       "<style scoped>\n",
       "    .dataframe tbody tr th:only-of-type {\n",
       "        vertical-align: middle;\n",
       "    }\n",
       "\n",
       "    .dataframe tbody tr th {\n",
       "        vertical-align: top;\n",
       "    }\n",
       "\n",
       "    .dataframe thead th {\n",
       "        text-align: right;\n",
       "    }\n",
       "</style>\n",
       "<table border=\"1\" class=\"dataframe\">\n",
       "  <thead>\n",
       "    <tr style=\"text-align: right;\">\n",
       "      <th></th>\n",
       "      <th>imdb_id</th>\n",
       "      <th>adult</th>\n",
       "      <th>backdrop_path</th>\n",
       "      <th>belongs_to_collection</th>\n",
       "      <th>budget</th>\n",
       "      <th>genres</th>\n",
       "      <th>homepage</th>\n",
       "      <th>id</th>\n",
       "      <th>original_language</th>\n",
       "      <th>original_title</th>\n",
       "      <th>...</th>\n",
       "      <th>revenue</th>\n",
       "      <th>runtime</th>\n",
       "      <th>spoken_languages</th>\n",
       "      <th>status</th>\n",
       "      <th>tagline</th>\n",
       "      <th>title</th>\n",
       "      <th>video</th>\n",
       "      <th>vote_average</th>\n",
       "      <th>vote_count</th>\n",
       "      <th>certification</th>\n",
       "    </tr>\n",
       "  </thead>\n",
       "  <tbody>\n",
       "    <tr>\n",
       "      <th>1</th>\n",
       "      <td>tt0113026</td>\n",
       "      <td>0.0</td>\n",
       "      <td>/vMFs7nw6P0bIV1jDsQpxAieAVnH.jpg</td>\n",
       "      <td>NaN</td>\n",
       "      <td>10000000.0</td>\n",
       "      <td>[{'id': 35, 'name': 'Comedy'}, {'id': 10402, '...</td>\n",
       "      <td>NaN</td>\n",
       "      <td>62127.0</td>\n",
       "      <td>en</td>\n",
       "      <td>The Fantasticks</td>\n",
       "      <td>...</td>\n",
       "      <td>0.0</td>\n",
       "      <td>86.0</td>\n",
       "      <td>[{'english_name': 'English', 'iso_639_1': 'en'...</td>\n",
       "      <td>Released</td>\n",
       "      <td>Try to remember the first time magic happened</td>\n",
       "      <td>The Fantasticks</td>\n",
       "      <td>0.0</td>\n",
       "      <td>5.4</td>\n",
       "      <td>21.0</td>\n",
       "      <td>NaN</td>\n",
       "    </tr>\n",
       "    <tr>\n",
       "      <th>2</th>\n",
       "      <td>tt0113092</td>\n",
       "      <td>0.0</td>\n",
       "      <td>NaN</td>\n",
       "      <td>NaN</td>\n",
       "      <td>0.0</td>\n",
       "      <td>[{'id': 878, 'name': 'Science Fiction'}]</td>\n",
       "      <td>NaN</td>\n",
       "      <td>110977.0</td>\n",
       "      <td>en</td>\n",
       "      <td>For the Cause</td>\n",
       "      <td>...</td>\n",
       "      <td>0.0</td>\n",
       "      <td>100.0</td>\n",
       "      <td>[{'english_name': 'English', 'iso_639_1': 'en'...</td>\n",
       "      <td>Released</td>\n",
       "      <td>The ultimate showdown on a forbidden planet.</td>\n",
       "      <td>For the Cause</td>\n",
       "      <td>0.0</td>\n",
       "      <td>4.4</td>\n",
       "      <td>7.0</td>\n",
       "      <td>NaN</td>\n",
       "    </tr>\n",
       "    <tr>\n",
       "      <th>3</th>\n",
       "      <td>tt0116391</td>\n",
       "      <td>0.0</td>\n",
       "      <td>NaN</td>\n",
       "      <td>NaN</td>\n",
       "      <td>0.0</td>\n",
       "      <td>[{'id': 18, 'name': 'Drama'}, {'id': 28, 'name...</td>\n",
       "      <td>NaN</td>\n",
       "      <td>442869.0</td>\n",
       "      <td>hi</td>\n",
       "      <td>Gang</td>\n",
       "      <td>...</td>\n",
       "      <td>0.0</td>\n",
       "      <td>152.0</td>\n",
       "      <td>[{'english_name': 'Hindi', 'iso_639_1': 'hi', ...</td>\n",
       "      <td>Released</td>\n",
       "      <td>NaN</td>\n",
       "      <td>Gang</td>\n",
       "      <td>0.0</td>\n",
       "      <td>0.0</td>\n",
       "      <td>0.0</td>\n",
       "      <td>NaN</td>\n",
       "    </tr>\n",
       "    <tr>\n",
       "      <th>4</th>\n",
       "      <td>tt0118694</td>\n",
       "      <td>0.0</td>\n",
       "      <td>/n4GJFGzsc7NinI1VeGDXIcQjtU2.jpg</td>\n",
       "      <td>NaN</td>\n",
       "      <td>150000.0</td>\n",
       "      <td>[{'id': 18, 'name': 'Drama'}, {'id': 10749, 'n...</td>\n",
       "      <td>http://www.wkw-inthemoodforlove.com/</td>\n",
       "      <td>843.0</td>\n",
       "      <td>cn</td>\n",
       "      <td>花樣年華</td>\n",
       "      <td>...</td>\n",
       "      <td>12854953.0</td>\n",
       "      <td>99.0</td>\n",
       "      <td>[{'english_name': 'Cantonese', 'iso_639_1': 'c...</td>\n",
       "      <td>Released</td>\n",
       "      <td>Feel the heat, keep the feeling burning, let t...</td>\n",
       "      <td>In the Mood for Love</td>\n",
       "      <td>0.0</td>\n",
       "      <td>8.1</td>\n",
       "      <td>1860.0</td>\n",
       "      <td>PG</td>\n",
       "    </tr>\n",
       "    <tr>\n",
       "      <th>5</th>\n",
       "      <td>tt0118852</td>\n",
       "      <td>0.0</td>\n",
       "      <td>NaN</td>\n",
       "      <td>NaN</td>\n",
       "      <td>0.0</td>\n",
       "      <td>[{'id': 18, 'name': 'Drama'}]</td>\n",
       "      <td>NaN</td>\n",
       "      <td>49511.0</td>\n",
       "      <td>en</td>\n",
       "      <td>Chinese Coffee</td>\n",
       "      <td>...</td>\n",
       "      <td>0.0</td>\n",
       "      <td>99.0</td>\n",
       "      <td>[{'english_name': 'English', 'iso_639_1': 'en'...</td>\n",
       "      <td>Released</td>\n",
       "      <td>There's a fine line between friendship and bet...</td>\n",
       "      <td>Chinese Coffee</td>\n",
       "      <td>0.0</td>\n",
       "      <td>6.9</td>\n",
       "      <td>45.0</td>\n",
       "      <td>R</td>\n",
       "    </tr>\n",
       "    <tr>\n",
       "      <th>...</th>\n",
       "      <td>...</td>\n",
       "      <td>...</td>\n",
       "      <td>...</td>\n",
       "      <td>...</td>\n",
       "      <td>...</td>\n",
       "      <td>...</td>\n",
       "      <td>...</td>\n",
       "      <td>...</td>\n",
       "      <td>...</td>\n",
       "      <td>...</td>\n",
       "      <td>...</td>\n",
       "      <td>...</td>\n",
       "      <td>...</td>\n",
       "      <td>...</td>\n",
       "      <td>...</td>\n",
       "      <td>...</td>\n",
       "      <td>...</td>\n",
       "      <td>...</td>\n",
       "      <td>...</td>\n",
       "      <td>...</td>\n",
       "      <td>...</td>\n",
       "    </tr>\n",
       "    <tr>\n",
       "      <th>59708</th>\n",
       "      <td>tt9895024</td>\n",
       "      <td>0.0</td>\n",
       "      <td>/S1kutYyoyuBJKGS0mXxv2fZNbr.jpg</td>\n",
       "      <td>NaN</td>\n",
       "      <td>0.0</td>\n",
       "      <td>[{'id': 18, 'name': 'Drama'}, {'id': 35, 'name...</td>\n",
       "      <td>NaN</td>\n",
       "      <td>834443.0</td>\n",
       "      <td>de</td>\n",
       "      <td>Heikos Welt</td>\n",
       "      <td>...</td>\n",
       "      <td>0.0</td>\n",
       "      <td>118.0</td>\n",
       "      <td>[{'english_name': 'German', 'iso_639_1': 'de',...</td>\n",
       "      <td>Released</td>\n",
       "      <td>NaN</td>\n",
       "      <td>Heiko's World</td>\n",
       "      <td>0.0</td>\n",
       "      <td>0.0</td>\n",
       "      <td>0.0</td>\n",
       "      <td>NaN</td>\n",
       "    </tr>\n",
       "    <tr>\n",
       "      <th>59709</th>\n",
       "      <td>tt9896876</td>\n",
       "      <td>0.0</td>\n",
       "      <td>/hMvRbT6HOqERhh3K8kXbaLz9LlZ.jpg</td>\n",
       "      <td>NaN</td>\n",
       "      <td>0.0</td>\n",
       "      <td>[{'id': 35, 'name': 'Comedy'}, {'id': 18, 'nam...</td>\n",
       "      <td>NaN</td>\n",
       "      <td>821493.0</td>\n",
       "      <td>en</td>\n",
       "      <td>India Sweets and Spices</td>\n",
       "      <td>...</td>\n",
       "      <td>0.0</td>\n",
       "      <td>101.0</td>\n",
       "      <td>[{'english_name': 'English', 'iso_639_1': 'en'...</td>\n",
       "      <td>Released</td>\n",
       "      <td>Let the aunties talk.</td>\n",
       "      <td>India Sweets and Spices</td>\n",
       "      <td>0.0</td>\n",
       "      <td>6.0</td>\n",
       "      <td>2.0</td>\n",
       "      <td>PG-13</td>\n",
       "    </tr>\n",
       "    <tr>\n",
       "      <th>59710</th>\n",
       "      <td>tt9898844</td>\n",
       "      <td>0.0</td>\n",
       "      <td>/q2KFBGyUSzHDhNqXEYv2LqTWVSz.jpg</td>\n",
       "      <td>NaN</td>\n",
       "      <td>0.0</td>\n",
       "      <td>[{'id': 27, 'name': 'Horror'}]</td>\n",
       "      <td>NaN</td>\n",
       "      <td>870671.0</td>\n",
       "      <td>en</td>\n",
       "      <td>The Hunting</td>\n",
       "      <td>...</td>\n",
       "      <td>0.0</td>\n",
       "      <td>91.0</td>\n",
       "      <td>[{'english_name': 'English', 'iso_639_1': 'en'...</td>\n",
       "      <td>Released</td>\n",
       "      <td>Hunger runs deep.</td>\n",
       "      <td>The Hunting</td>\n",
       "      <td>0.0</td>\n",
       "      <td>4.9</td>\n",
       "      <td>20.0</td>\n",
       "      <td>NaN</td>\n",
       "    </tr>\n",
       "    <tr>\n",
       "      <th>59711</th>\n",
       "      <td>tt9900940</td>\n",
       "      <td>0.0</td>\n",
       "      <td>/3jjWLg5bevWqReyVroYqxwVrH0k.jpg</td>\n",
       "      <td>NaN</td>\n",
       "      <td>0.0</td>\n",
       "      <td>[{'id': 80, 'name': 'Crime'}, {'id': 18, 'name...</td>\n",
       "      <td>NaN</td>\n",
       "      <td>861294.0</td>\n",
       "      <td>en</td>\n",
       "      <td>The Scrapper</td>\n",
       "      <td>...</td>\n",
       "      <td>0.0</td>\n",
       "      <td>87.0</td>\n",
       "      <td>[{'english_name': 'English', 'iso_639_1': 'en'...</td>\n",
       "      <td>Released</td>\n",
       "      <td>You can't escape your past.</td>\n",
       "      <td>The Scrapper</td>\n",
       "      <td>0.0</td>\n",
       "      <td>6.0</td>\n",
       "      <td>2.0</td>\n",
       "      <td>NaN</td>\n",
       "    </tr>\n",
       "    <tr>\n",
       "      <th>59712</th>\n",
       "      <td>tt9907782</td>\n",
       "      <td>0.0</td>\n",
       "      <td>/gRTYArznK1MLAq7opC1tYHnTwM3.jpg</td>\n",
       "      <td>NaN</td>\n",
       "      <td>0.0</td>\n",
       "      <td>[{'id': 27, 'name': 'Horror'}, {'id': 14, 'nam...</td>\n",
       "      <td>NaN</td>\n",
       "      <td>630392.0</td>\n",
       "      <td>en</td>\n",
       "      <td>The Cursed</td>\n",
       "      <td>...</td>\n",
       "      <td>4588389.0</td>\n",
       "      <td>111.0</td>\n",
       "      <td>[{'english_name': 'English', 'iso_639_1': 'en'...</td>\n",
       "      <td>Released</td>\n",
       "      <td>NaN</td>\n",
       "      <td>The Cursed</td>\n",
       "      <td>0.0</td>\n",
       "      <td>7.0</td>\n",
       "      <td>55.0</td>\n",
       "      <td>R</td>\n",
       "    </tr>\n",
       "  </tbody>\n",
       "</table>\n",
       "<p>59712 rows × 26 columns</p>\n",
       "</div>"
      ],
      "text/plain": [
       "         imdb_id  adult                     backdrop_path  \\\n",
       "1      tt0113026    0.0  /vMFs7nw6P0bIV1jDsQpxAieAVnH.jpg   \n",
       "2      tt0113092    0.0                               NaN   \n",
       "3      tt0116391    0.0                               NaN   \n",
       "4      tt0118694    0.0  /n4GJFGzsc7NinI1VeGDXIcQjtU2.jpg   \n",
       "5      tt0118852    0.0                               NaN   \n",
       "...          ...    ...                               ...   \n",
       "59708  tt9895024    0.0   /S1kutYyoyuBJKGS0mXxv2fZNbr.jpg   \n",
       "59709  tt9896876    0.0  /hMvRbT6HOqERhh3K8kXbaLz9LlZ.jpg   \n",
       "59710  tt9898844    0.0  /q2KFBGyUSzHDhNqXEYv2LqTWVSz.jpg   \n",
       "59711  tt9900940    0.0  /3jjWLg5bevWqReyVroYqxwVrH0k.jpg   \n",
       "59712  tt9907782    0.0  /gRTYArznK1MLAq7opC1tYHnTwM3.jpg   \n",
       "\n",
       "      belongs_to_collection      budget  \\\n",
       "1                       NaN  10000000.0   \n",
       "2                       NaN         0.0   \n",
       "3                       NaN         0.0   \n",
       "4                       NaN    150000.0   \n",
       "5                       NaN         0.0   \n",
       "...                     ...         ...   \n",
       "59708                   NaN         0.0   \n",
       "59709                   NaN         0.0   \n",
       "59710                   NaN         0.0   \n",
       "59711                   NaN         0.0   \n",
       "59712                   NaN         0.0   \n",
       "\n",
       "                                                  genres  \\\n",
       "1      [{'id': 35, 'name': 'Comedy'}, {'id': 10402, '...   \n",
       "2               [{'id': 878, 'name': 'Science Fiction'}]   \n",
       "3      [{'id': 18, 'name': 'Drama'}, {'id': 28, 'name...   \n",
       "4      [{'id': 18, 'name': 'Drama'}, {'id': 10749, 'n...   \n",
       "5                          [{'id': 18, 'name': 'Drama'}]   \n",
       "...                                                  ...   \n",
       "59708  [{'id': 18, 'name': 'Drama'}, {'id': 35, 'name...   \n",
       "59709  [{'id': 35, 'name': 'Comedy'}, {'id': 18, 'nam...   \n",
       "59710                     [{'id': 27, 'name': 'Horror'}]   \n",
       "59711  [{'id': 80, 'name': 'Crime'}, {'id': 18, 'name...   \n",
       "59712  [{'id': 27, 'name': 'Horror'}, {'id': 14, 'nam...   \n",
       "\n",
       "                                   homepage        id original_language  \\\n",
       "1                                       NaN   62127.0                en   \n",
       "2                                       NaN  110977.0                en   \n",
       "3                                       NaN  442869.0                hi   \n",
       "4      http://www.wkw-inthemoodforlove.com/     843.0                cn   \n",
       "5                                       NaN   49511.0                en   \n",
       "...                                     ...       ...               ...   \n",
       "59708                                   NaN  834443.0                de   \n",
       "59709                                   NaN  821493.0                en   \n",
       "59710                                   NaN  870671.0                en   \n",
       "59711                                   NaN  861294.0                en   \n",
       "59712                                   NaN  630392.0                en   \n",
       "\n",
       "                original_title  ...     revenue  runtime  \\\n",
       "1              The Fantasticks  ...         0.0     86.0   \n",
       "2                For the Cause  ...         0.0    100.0   \n",
       "3                         Gang  ...         0.0    152.0   \n",
       "4                         花樣年華  ...  12854953.0     99.0   \n",
       "5               Chinese Coffee  ...         0.0     99.0   \n",
       "...                        ...  ...         ...      ...   \n",
       "59708              Heikos Welt  ...         0.0    118.0   \n",
       "59709  India Sweets and Spices  ...         0.0    101.0   \n",
       "59710              The Hunting  ...         0.0     91.0   \n",
       "59711             The Scrapper  ...         0.0     87.0   \n",
       "59712               The Cursed  ...   4588389.0    111.0   \n",
       "\n",
       "                                        spoken_languages    status  \\\n",
       "1      [{'english_name': 'English', 'iso_639_1': 'en'...  Released   \n",
       "2      [{'english_name': 'English', 'iso_639_1': 'en'...  Released   \n",
       "3      [{'english_name': 'Hindi', 'iso_639_1': 'hi', ...  Released   \n",
       "4      [{'english_name': 'Cantonese', 'iso_639_1': 'c...  Released   \n",
       "5      [{'english_name': 'English', 'iso_639_1': 'en'...  Released   \n",
       "...                                                  ...       ...   \n",
       "59708  [{'english_name': 'German', 'iso_639_1': 'de',...  Released   \n",
       "59709  [{'english_name': 'English', 'iso_639_1': 'en'...  Released   \n",
       "59710  [{'english_name': 'English', 'iso_639_1': 'en'...  Released   \n",
       "59711  [{'english_name': 'English', 'iso_639_1': 'en'...  Released   \n",
       "59712  [{'english_name': 'English', 'iso_639_1': 'en'...  Released   \n",
       "\n",
       "                                                 tagline  \\\n",
       "1          Try to remember the first time magic happened   \n",
       "2           The ultimate showdown on a forbidden planet.   \n",
       "3                                                    NaN   \n",
       "4      Feel the heat, keep the feeling burning, let t...   \n",
       "5      There's a fine line between friendship and bet...   \n",
       "...                                                  ...   \n",
       "59708                                                NaN   \n",
       "59709                              Let the aunties talk.   \n",
       "59710                                  Hunger runs deep.   \n",
       "59711                        You can't escape your past.   \n",
       "59712                                                NaN   \n",
       "\n",
       "                         title  video  vote_average vote_count certification  \n",
       "1              The Fantasticks    0.0           5.4       21.0           NaN  \n",
       "2                For the Cause    0.0           4.4        7.0           NaN  \n",
       "3                         Gang    0.0           0.0        0.0           NaN  \n",
       "4         In the Mood for Love    0.0           8.1     1860.0            PG  \n",
       "5               Chinese Coffee    0.0           6.9       45.0             R  \n",
       "...                        ...    ...           ...        ...           ...  \n",
       "59708            Heiko's World    0.0           0.0        0.0           NaN  \n",
       "59709  India Sweets and Spices    0.0           6.0        2.0         PG-13  \n",
       "59710              The Hunting    0.0           4.9       20.0           NaN  \n",
       "59711             The Scrapper    0.0           6.0        2.0           NaN  \n",
       "59712               The Cursed    0.0           7.0       55.0             R  \n",
       "\n",
       "[59712 rows x 26 columns]"
      ]
     },
     "execution_count": 4,
     "metadata": {},
     "output_type": "execute_result"
    }
   ],
   "source": [
    "tmdb_2000_2020"
   ]
  },
  {
   "cell_type": "code",
   "execution_count": 5,
   "id": "8741b124",
   "metadata": {},
   "outputs": [
    {
     "name": "stdout",
     "output_type": "stream",
     "text": [
      "<class 'pandas.core.frame.DataFrame'>\n",
      "RangeIndex: 59712 entries, 1 to 59712\n",
      "Data columns (total 26 columns):\n",
      " #   Column                 Non-Null Count  Dtype  \n",
      "---  ------                 --------------  -----  \n",
      " 0   imdb_id                59712 non-null  object \n",
      " 1   adult                  59691 non-null  float64\n",
      " 2   backdrop_path          36755 non-null  object \n",
      " 3   belongs_to_collection  3705 non-null   object \n",
      " 4   budget                 59691 non-null  float64\n",
      " 5   genres                 59691 non-null  object \n",
      " 6   homepage               14734 non-null  object \n",
      " 7   id                     59691 non-null  float64\n",
      " 8   original_language      59691 non-null  object \n",
      " 9   original_title         59691 non-null  object \n",
      " 10  overview               58318 non-null  object \n",
      " 11  popularity             59691 non-null  float64\n",
      " 12  poster_path            53985 non-null  object \n",
      " 13  production_companies   59691 non-null  object \n",
      " 14  production_countries   59691 non-null  object \n",
      " 15  release_date           58639 non-null  object \n",
      " 16  revenue                59691 non-null  float64\n",
      " 17  runtime                58860 non-null  float64\n",
      " 18  spoken_languages       59691 non-null  object \n",
      " 19  status                 59691 non-null  object \n",
      " 20  tagline                21953 non-null  object \n",
      " 21  title                  59691 non-null  object \n",
      " 22  video                  59691 non-null  float64\n",
      " 23  vote_average           59691 non-null  float64\n",
      " 24  vote_count             59691 non-null  float64\n",
      " 25  certification          14566 non-null  object \n",
      "dtypes: float64(9), object(17)\n",
      "memory usage: 11.8+ MB\n"
     ]
    }
   ],
   "source": [
    "tmdb_2000_2020.info()"
   ]
  },
  {
   "cell_type": "markdown",
   "id": "0c0bd6f9",
   "metadata": {},
   "source": [
    "**Excluding any movies with null values for budget AND revenue**"
   ]
  },
  {
   "cell_type": "code",
   "execution_count": 6,
   "id": "2d739b38",
   "metadata": {},
   "outputs": [
    {
     "data": {
      "text/plain": [
       "budget     21\n",
       "revenue    21\n",
       "dtype: int64"
      ]
     },
     "execution_count": 6,
     "metadata": {},
     "output_type": "execute_result"
    }
   ],
   "source": [
    "#Checking for null values in budget and revenue\n",
    "tmdb_2000_2020[[\"budget\", \"revenue\"]].isnull().sum()"
   ]
  },
  {
   "cell_type": "code",
   "execution_count": 7,
   "id": "38a66b78",
   "metadata": {},
   "outputs": [],
   "source": [
    "#Dropping of null values in budget and revenue\n",
    "tmdb_2000_2020 = tmdb_2000_2020.dropna(subset=[\"budget\", \"revenue\"])"
   ]
  },
  {
   "cell_type": "code",
   "execution_count": 8,
   "id": "1db96ab2",
   "metadata": {},
   "outputs": [
    {
     "data": {
      "text/plain": [
       "budget     0\n",
       "revenue    0\n",
       "dtype: int64"
      ]
     },
     "execution_count": 8,
     "metadata": {},
     "output_type": "execute_result"
    }
   ],
   "source": [
    "#Confirming changes\n",
    "tmdb_2000_2020[[\"budget\", \"revenue\"]].isnull().sum()"
   ]
  },
  {
   "cell_type": "markdown",
   "id": "c9d5a010",
   "metadata": {},
   "source": [
    ">- ### How many movies had at least some valid financial information (values > 0 for budget OR revenue)?"
   ]
  },
  {
   "cell_type": "code",
   "execution_count": 29,
   "id": "286183a3",
   "metadata": {},
   "outputs": [
    {
     "data": {
      "text/html": [
       "<div>\n",
       "<style scoped>\n",
       "    .dataframe tbody tr th:only-of-type {\n",
       "        vertical-align: middle;\n",
       "    }\n",
       "\n",
       "    .dataframe tbody tr th {\n",
       "        vertical-align: top;\n",
       "    }\n",
       "\n",
       "    .dataframe thead th {\n",
       "        text-align: right;\n",
       "    }\n",
       "</style>\n",
       "<table border=\"1\" class=\"dataframe\">\n",
       "  <thead>\n",
       "    <tr style=\"text-align: right;\">\n",
       "      <th></th>\n",
       "      <th>imdb_id</th>\n",
       "      <th>adult</th>\n",
       "      <th>backdrop_path</th>\n",
       "      <th>belongs_to_collection</th>\n",
       "      <th>budget</th>\n",
       "      <th>genres</th>\n",
       "      <th>homepage</th>\n",
       "      <th>id</th>\n",
       "      <th>original_language</th>\n",
       "      <th>original_title</th>\n",
       "      <th>...</th>\n",
       "      <th>revenue</th>\n",
       "      <th>runtime</th>\n",
       "      <th>spoken_languages</th>\n",
       "      <th>status</th>\n",
       "      <th>tagline</th>\n",
       "      <th>title</th>\n",
       "      <th>video</th>\n",
       "      <th>vote_average</th>\n",
       "      <th>vote_count</th>\n",
       "      <th>certification</th>\n",
       "    </tr>\n",
       "  </thead>\n",
       "  <tbody>\n",
       "    <tr>\n",
       "      <th>4</th>\n",
       "      <td>tt0118694</td>\n",
       "      <td>0.0</td>\n",
       "      <td>/n4GJFGzsc7NinI1VeGDXIcQjtU2.jpg</td>\n",
       "      <td>NaN</td>\n",
       "      <td>150000.0</td>\n",
       "      <td>[{'id': 18, 'name': 'Drama'}, {'id': 10749, 'n...</td>\n",
       "      <td>http://www.wkw-inthemoodforlove.com/</td>\n",
       "      <td>843.0</td>\n",
       "      <td>cn</td>\n",
       "      <td>花樣年華</td>\n",
       "      <td>...</td>\n",
       "      <td>12854953.0</td>\n",
       "      <td>99.0</td>\n",
       "      <td>[{'english_name': 'Cantonese', 'iso_639_1': 'c...</td>\n",
       "      <td>Released</td>\n",
       "      <td>Feel the heat, keep the feeling burning, let t...</td>\n",
       "      <td>In the Mood for Love</td>\n",
       "      <td>0.0</td>\n",
       "      <td>8.1</td>\n",
       "      <td>1860.0</td>\n",
       "      <td>PG</td>\n",
       "    </tr>\n",
       "    <tr>\n",
       "      <th>11</th>\n",
       "      <td>tt0120467</td>\n",
       "      <td>0.0</td>\n",
       "      <td>NaN</td>\n",
       "      <td>NaN</td>\n",
       "      <td>120000.0</td>\n",
       "      <td>[{'id': 18, 'name': 'Drama'}, {'id': 27, 'name...</td>\n",
       "      <td>NaN</td>\n",
       "      <td>19085.0</td>\n",
       "      <td>en</td>\n",
       "      <td>Vulgar</td>\n",
       "      <td>...</td>\n",
       "      <td>14904.0</td>\n",
       "      <td>87.0</td>\n",
       "      <td>[{'english_name': 'English', 'iso_639_1': 'en'...</td>\n",
       "      <td>Released</td>\n",
       "      <td>Everyone loves a clown... some more than others.</td>\n",
       "      <td>Vulgar</td>\n",
       "      <td>0.0</td>\n",
       "      <td>5.5</td>\n",
       "      <td>40.0</td>\n",
       "      <td>R</td>\n",
       "    </tr>\n",
       "    <tr>\n",
       "      <th>13</th>\n",
       "      <td>tt0120630</td>\n",
       "      <td>0.0</td>\n",
       "      <td>/t7aJ7hqsMLEoqBJk7yAXxcAVvcz.jpg</td>\n",
       "      <td>{'id': 718551, 'name': 'Chicken Run Collection...</td>\n",
       "      <td>45000000.0</td>\n",
       "      <td>[{'id': 16, 'name': 'Animation'}, {'id': 35, '...</td>\n",
       "      <td>NaN</td>\n",
       "      <td>7443.0</td>\n",
       "      <td>en</td>\n",
       "      <td>Chicken Run</td>\n",
       "      <td>...</td>\n",
       "      <td>224834564.0</td>\n",
       "      <td>84.0</td>\n",
       "      <td>[{'english_name': 'English', 'iso_639_1': 'en'...</td>\n",
       "      <td>Released</td>\n",
       "      <td>This ain't no chick flick. It's poultry in mot...</td>\n",
       "      <td>Chicken Run</td>\n",
       "      <td>0.0</td>\n",
       "      <td>6.7</td>\n",
       "      <td>3992.0</td>\n",
       "      <td>G</td>\n",
       "    </tr>\n",
       "    <tr>\n",
       "      <th>16</th>\n",
       "      <td>tt0120753</td>\n",
       "      <td>0.0</td>\n",
       "      <td>/cXXxi0j9sXFt7LbeajuFoKFqWMu.jpg</td>\n",
       "      <td>NaN</td>\n",
       "      <td>8000000.0</td>\n",
       "      <td>[{'id': 18, 'name': 'Drama'}, {'id': 53, 'name...</td>\n",
       "      <td>NaN</td>\n",
       "      <td>318.0</td>\n",
       "      <td>en</td>\n",
       "      <td>The Million Dollar Hotel</td>\n",
       "      <td>...</td>\n",
       "      <td>105983.0</td>\n",
       "      <td>122.0</td>\n",
       "      <td>[{'english_name': 'English', 'iso_639_1': 'en'...</td>\n",
       "      <td>Released</td>\n",
       "      <td>Everyone has something to hide.</td>\n",
       "      <td>The Million Dollar Hotel</td>\n",
       "      <td>0.0</td>\n",
       "      <td>5.9</td>\n",
       "      <td>247.0</td>\n",
       "      <td>R</td>\n",
       "    </tr>\n",
       "    <tr>\n",
       "      <th>17</th>\n",
       "      <td>tt0120755</td>\n",
       "      <td>0.0</td>\n",
       "      <td>/8XaohdSqoBEWHhW40q2VTdMBrV0.jpg</td>\n",
       "      <td>{'id': 87359, 'name': 'Mission: Impossible Col...</td>\n",
       "      <td>125000000.0</td>\n",
       "      <td>[{'id': 12, 'name': 'Adventure'}, {'id': 28, '...</td>\n",
       "      <td>NaN</td>\n",
       "      <td>955.0</td>\n",
       "      <td>en</td>\n",
       "      <td>Mission: Impossible II</td>\n",
       "      <td>...</td>\n",
       "      <td>546388105.0</td>\n",
       "      <td>123.0</td>\n",
       "      <td>[{'english_name': 'English', 'iso_639_1': 'en'...</td>\n",
       "      <td>Released</td>\n",
       "      <td>Expect the impossible again.</td>\n",
       "      <td>Mission: Impossible II</td>\n",
       "      <td>0.0</td>\n",
       "      <td>6.1</td>\n",
       "      <td>5266.0</td>\n",
       "      <td>PG-13</td>\n",
       "    </tr>\n",
       "  </tbody>\n",
       "</table>\n",
       "<p>5 rows × 26 columns</p>\n",
       "</div>"
      ],
      "text/plain": [
       "      imdb_id  adult                     backdrop_path  \\\n",
       "4   tt0118694    0.0  /n4GJFGzsc7NinI1VeGDXIcQjtU2.jpg   \n",
       "11  tt0120467    0.0                               NaN   \n",
       "13  tt0120630    0.0  /t7aJ7hqsMLEoqBJk7yAXxcAVvcz.jpg   \n",
       "16  tt0120753    0.0  /cXXxi0j9sXFt7LbeajuFoKFqWMu.jpg   \n",
       "17  tt0120755    0.0  /8XaohdSqoBEWHhW40q2VTdMBrV0.jpg   \n",
       "\n",
       "                                belongs_to_collection       budget  \\\n",
       "4                                                 NaN     150000.0   \n",
       "11                                                NaN     120000.0   \n",
       "13  {'id': 718551, 'name': 'Chicken Run Collection...   45000000.0   \n",
       "16                                                NaN    8000000.0   \n",
       "17  {'id': 87359, 'name': 'Mission: Impossible Col...  125000000.0   \n",
       "\n",
       "                                               genres  \\\n",
       "4   [{'id': 18, 'name': 'Drama'}, {'id': 10749, 'n...   \n",
       "11  [{'id': 18, 'name': 'Drama'}, {'id': 27, 'name...   \n",
       "13  [{'id': 16, 'name': 'Animation'}, {'id': 35, '...   \n",
       "16  [{'id': 18, 'name': 'Drama'}, {'id': 53, 'name...   \n",
       "17  [{'id': 12, 'name': 'Adventure'}, {'id': 28, '...   \n",
       "\n",
       "                                homepage       id original_language  \\\n",
       "4   http://www.wkw-inthemoodforlove.com/    843.0                cn   \n",
       "11                                   NaN  19085.0                en   \n",
       "13                                   NaN   7443.0                en   \n",
       "16                                   NaN    318.0                en   \n",
       "17                                   NaN    955.0                en   \n",
       "\n",
       "              original_title  ...      revenue  runtime  \\\n",
       "4                       花樣年華  ...   12854953.0     99.0   \n",
       "11                    Vulgar  ...      14904.0     87.0   \n",
       "13               Chicken Run  ...  224834564.0     84.0   \n",
       "16  The Million Dollar Hotel  ...     105983.0    122.0   \n",
       "17    Mission: Impossible II  ...  546388105.0    123.0   \n",
       "\n",
       "                                     spoken_languages    status  \\\n",
       "4   [{'english_name': 'Cantonese', 'iso_639_1': 'c...  Released   \n",
       "11  [{'english_name': 'English', 'iso_639_1': 'en'...  Released   \n",
       "13  [{'english_name': 'English', 'iso_639_1': 'en'...  Released   \n",
       "16  [{'english_name': 'English', 'iso_639_1': 'en'...  Released   \n",
       "17  [{'english_name': 'English', 'iso_639_1': 'en'...  Released   \n",
       "\n",
       "                                              tagline  \\\n",
       "4   Feel the heat, keep the feeling burning, let t...   \n",
       "11   Everyone loves a clown... some more than others.   \n",
       "13  This ain't no chick flick. It's poultry in mot...   \n",
       "16                    Everyone has something to hide.   \n",
       "17                       Expect the impossible again.   \n",
       "\n",
       "                       title  video  vote_average vote_count certification  \n",
       "4       In the Mood for Love    0.0           8.1     1860.0            PG  \n",
       "11                    Vulgar    0.0           5.5       40.0             R  \n",
       "13               Chicken Run    0.0           6.7     3992.0             G  \n",
       "16  The Million Dollar Hotel    0.0           5.9      247.0             R  \n",
       "17    Mission: Impossible II    0.0           6.1     5266.0         PG-13  \n",
       "\n",
       "[5 rows x 26 columns]"
      ]
     },
     "execution_count": 29,
     "metadata": {},
     "output_type": "execute_result"
    }
   ],
   "source": [
    "#Grouping the dataframe based on budget and revenue with values greater than 0\n",
    "new_df = tmdb_2000_2020[(tmdb_2000_2020[\"budget\"]>0) & (tmdb_2000_2020[\"revenue\"]>0) ]\n",
    "new_df.head()"
   ]
  },
  {
   "cell_type": "code",
   "execution_count": 10,
   "id": "23cb5ef1",
   "metadata": {},
   "outputs": [
    {
     "data": {
      "text/plain": [
       "(5078, 26)"
      ]
     },
     "execution_count": 10,
     "metadata": {},
     "output_type": "execute_result"
    }
   ],
   "source": [
    "#Checking the number of rows of the data\n",
    "new_df.shape"
   ]
  },
  {
   "cell_type": "markdown",
   "id": "77babcb7",
   "metadata": {},
   "source": [
    "**There are 5078 movies with information on budget or revenue**"
   ]
  },
  {
   "cell_type": "code",
   "execution_count": 11,
   "id": "26ea89ef",
   "metadata": {},
   "outputs": [
    {
     "name": "stdout",
     "output_type": "stream",
     "text": [
      "<class 'pandas.core.frame.DataFrame'>\n",
      "Int64Index: 5078 entries, 4 to 59691\n",
      "Data columns (total 26 columns):\n",
      " #   Column                 Non-Null Count  Dtype  \n",
      "---  ------                 --------------  -----  \n",
      " 0   imdb_id                5078 non-null   object \n",
      " 1   adult                  5078 non-null   float64\n",
      " 2   backdrop_path          4856 non-null   object \n",
      " 3   belongs_to_collection  1117 non-null   object \n",
      " 4   budget                 5078 non-null   float64\n",
      " 5   genres                 5078 non-null   object \n",
      " 6   homepage               2416 non-null   object \n",
      " 7   id                     5078 non-null   float64\n",
      " 8   original_language      5078 non-null   object \n",
      " 9   original_title         5078 non-null   object \n",
      " 10  overview               5070 non-null   object \n",
      " 11  popularity             5078 non-null   float64\n",
      " 12  poster_path            5040 non-null   object \n",
      " 13  production_companies   5078 non-null   object \n",
      " 14  production_countries   5078 non-null   object \n",
      " 15  release_date           5069 non-null   object \n",
      " 16  revenue                5078 non-null   float64\n",
      " 17  runtime                5077 non-null   float64\n",
      " 18  spoken_languages       5078 non-null   object \n",
      " 19  status                 5078 non-null   object \n",
      " 20  tagline                4037 non-null   object \n",
      " 21  title                  5078 non-null   object \n",
      " 22  video                  5078 non-null   float64\n",
      " 23  vote_average           5078 non-null   float64\n",
      " 24  vote_count             5078 non-null   float64\n",
      " 25  certification          3923 non-null   object \n",
      "dtypes: float64(9), object(17)\n",
      "memory usage: 1.0+ MB\n"
     ]
    }
   ],
   "source": [
    "new_df.info()"
   ]
  },
  {
   "cell_type": "markdown",
   "id": "3f5f4aa8",
   "metadata": {},
   "source": [
    ">- ### How many movies are there in each of the certification categories (G/PG/PG-13/R)?"
   ]
  },
  {
   "cell_type": "code",
   "execution_count": 12,
   "id": "686ec809",
   "metadata": {},
   "outputs": [
    {
     "data": {
      "text/plain": [
       "R        1704\n",
       "PG-13    1446\n",
       "PG        523\n",
       "NR        145\n",
       "G          89\n",
       "NC-17      15\n",
       "R           1\n",
       "Name: certification, dtype: int64"
      ]
     },
     "execution_count": 12,
     "metadata": {},
     "output_type": "execute_result"
    }
   ],
   "source": [
    "#Number of movies per certification\n",
    "new_df[\"certification\"].value_counts()"
   ]
  },
  {
   "cell_type": "code",
   "execution_count": 13,
   "id": "933570d8",
   "metadata": {},
   "outputs": [
    {
     "name": "stderr",
     "output_type": "stream",
     "text": [
      "C:\\Users\\heill\\anaconda3\\envs\\dojo-env\\lib\\site-packages\\ipykernel_launcher.py:1: SettingWithCopyWarning: \n",
      "A value is trying to be set on a copy of a slice from a DataFrame.\n",
      "Try using .loc[row_indexer,col_indexer] = value instead\n",
      "\n",
      "See the caveats in the documentation: https://pandas.pydata.org/pandas-docs/stable/user_guide/indexing.html#returning-a-view-versus-a-copy\n",
      "  \"\"\"Entry point for launching an IPython kernel.\n"
     ]
    }
   ],
   "source": [
    "new_df[\"certification\"]= new_df[\"certification\"].str.strip()"
   ]
  },
  {
   "cell_type": "code",
   "execution_count": 14,
   "id": "edf496c5",
   "metadata": {},
   "outputs": [
    {
     "data": {
      "text/plain": [
       "R        1705\n",
       "PG-13    1446\n",
       "PG        523\n",
       "NR        145\n",
       "G          89\n",
       "NC-17      15\n",
       "Name: certification, dtype: int64"
      ]
     },
     "execution_count": 14,
     "metadata": {},
     "output_type": "execute_result"
    }
   ],
   "source": [
    "new_df[\"certification\"].value_counts()"
   ]
  },
  {
   "cell_type": "code",
   "execution_count": 15,
   "id": "39d0df46",
   "metadata": {},
   "outputs": [
    {
     "data": {
      "image/png": "[encoded data removed]",
      "text/plain": [
       "<Figure size 432x288 with 1 Axes>"
      ]
     },
     "metadata": {},
     "output_type": "display_data"
    }
   ],
   "source": [
    "#Barchart representation of the number of movies per certification\n",
    "new_df[\"certification\"].value_counts().plot.bar()\n",
    "plt.title('Number of Movies per Certification', fontsize = 14, weight='bold')\n",
    "plt.xlabel('Certification', fontsize = 14, weight='bold')\n",
    "plt.ylabel('Number of Movies', fontsize = 14, weight='bold');\n",
    "plt.xticks(fontsize = 10, weight='bold')\n",
    "plt.yticks(fontsize = 10, weight='bold');\n",
    "plt.tight_layout()\n",
    "plt.show;"
   ]
  },
  {
   "cell_type": "code",
   "execution_count": 16,
   "id": "4b5369a9",
   "metadata": {},
   "outputs": [
    {
     "data": {
      "text/plain": [
       "3923"
      ]
     },
     "execution_count": 16,
     "metadata": {},
     "output_type": "execute_result"
    }
   ],
   "source": [
    "#Total number of movies with certification under the new filtered dataframe\n",
    "new_df[\"certification\"].value_counts().sum()"
   ]
  },
  {
   "cell_type": "code",
   "execution_count": 17,
   "id": "d007504d",
   "metadata": {},
   "outputs": [
    {
     "data": {
      "text/plain": [
       "1155"
      ]
     },
     "execution_count": 17,
     "metadata": {},
     "output_type": "execute_result"
    }
   ],
   "source": [
    "#Number of movies with null values in certification column\n",
    "new_df[\"certification\"].isnull().sum()"
   ]
  },
  {
   "cell_type": "markdown",
   "id": "2d95cd96",
   "metadata": {},
   "source": [
    "**R certification has 138 movies, PG-13 has 116, PG has 29 movies, G has a total of 13 and NR has only 16 movies. The dataframe also has 36 \"certification\" columns with null values , which sums up to the total number of enteries for the filtered dataframe(338).**"
   ]
  },
  {
   "cell_type": "markdown",
   "id": "47b481ce",
   "metadata": {},
   "source": [
    ">- ### What is the average revenue per certification category?"
   ]
  },
  {
   "cell_type": "code",
   "execution_count": 18,
   "id": "7b2083c8",
   "metadata": {
    "scrolled": true
   },
   "outputs": [
    {
     "data": {
      "text/plain": [
       "certification\n",
       "PG       183,332,851.0\n",
       "G        165,248,971.0\n",
       "PG-13    159,859,257.0\n",
       "R         56,983,147.0\n",
       "NR        31,643,778.0\n",
       "NC-17     10,485,581.0\n",
       "Name: mean, dtype: object"
      ]
     },
     "execution_count": 18,
     "metadata": {},
     "output_type": "execute_result"
    }
   ],
   "source": [
    "#Grouping the dataframe based on certification and extracting the average revenue per certification\n",
    "\n",
    "filt_rev = new_df.groupby('certification')\\\n",
    "            ['revenue'].agg(['mean']).sort_values('mean', ascending=False)\n",
    "filt_rev['mean'] = round(filt_rev['mean']) #.apply('{:,}'.format)\n",
    "\n",
    "filtered = round(filt_rev['mean']).apply('{:,}'.format)\n",
    "filtered"
   ]
  },
  {
   "cell_type": "code",
   "execution_count": 19,
   "id": "0f98711b",
   "metadata": {},
   "outputs": [
    {
     "data": {
      "image/png": "[encoded data removed]",
      "text/plain": [
       "<Figure size 576x288 with 1 Axes>"
      ]
     },
     "metadata": {},
     "output_type": "display_data"
    }
   ],
   "source": [
    "\n",
    "#Barchart representation of the average revenue per certification\n",
    "fig, ax = plt.subplots(figsize=(8,4))\n",
    "sns.barplot(data=filt_rev, x='mean', y=filt_rev.index, \n",
    "            orient='h', palette='viridis'); \n",
    "plt.title('Average Revenue Per Certification', fontsize = 18, weight='bold')\n",
    "plt.xlabel('Dollars', fontsize = 14, weight='bold')\n",
    "plt.ylabel('Certification', fontsize = 14, weight='bold');\n",
    "plt.xticks(fontsize = 10, weight='bold')\n",
    "plt.yticks(fontsize = 10, weight='bold');\n",
    "ax.xaxis.set_major_formatter(price_format)\n",
    "\n",
    "plt.tight_layout()\n",
    "plt.show;"
   ]
  },
  {
   "cell_type": "markdown",
   "id": "619ac5a1",
   "metadata": {},
   "source": [
    ">- ### What is the average budget per certification category?"
   ]
  },
  {
   "cell_type": "code",
   "execution_count": 20,
   "id": "cabd58ff",
   "metadata": {},
   "outputs": [
    {
     "data": {
      "text/plain": [
       "certification\n",
       "PG       59,679,782.0\n",
       "PG-13    53,659,892.0\n",
       "G        51,814,466.0\n",
       "R        23,978,639.0\n",
       "NR       11,379,389.0\n",
       "NC-17     5,027,537.0\n",
       "Name: mean, dtype: object"
      ]
     },
     "execution_count": 20,
     "metadata": {},
     "output_type": "execute_result"
    }
   ],
   "source": [
    "#Grouping the dataframe based on certification and extracting the average budget per certification\n",
    "filt_budget = new_df.groupby('certification')\\\n",
    "            ['budget'].agg(['mean']).sort_values('mean', ascending=False)\n",
    "filt_budget['mean'] = round(filt_budget['mean'])\n",
    "filtered = round(filt_budget['mean']) .apply('{:,}'.format) \n",
    "filtered"
   ]
  },
  {
   "cell_type": "code",
   "execution_count": 21,
   "id": "30e4f5d5",
   "metadata": {},
   "outputs": [
    {
     "data": {
      "image/png": "[encoded data removed]",
      "text/plain": [
       "<Figure size 576x288 with 1 Axes>"
      ]
     },
     "metadata": {},
     "output_type": "display_data"
    }
   ],
   "source": [
    "#Barchart representation of the average budget per certification\n",
    "fig, ax = plt.subplots(figsize=(8,4))\n",
    "sns.barplot(data=filt_budget, x='mean', y=filt_budget.index, \n",
    "            orient='h'); \n",
    "plt.title('Average Budget Per Certification', fontsize = 18, weight='bold')\n",
    "plt.xlabel('Dollars', fontsize = 14, weight='bold')\n",
    "plt.ylabel('Certification', fontsize = 14, weight='bold');\n",
    "plt.xticks(fontsize = 10, weight='bold')\n",
    "plt.yticks(fontsize = 10, weight='bold');\n",
    "ax.xaxis.set_major_formatter(price_format)\n",
    "\n",
    "plt.tight_layout()\n",
    "plt.show;"
   ]
  },
  {
   "cell_type": "markdown",
   "id": "cdd773f7",
   "metadata": {},
   "source": [
    "**Saving the combined dataframe into an existing folder(FOLDER)**"
   ]
  },
  {
   "cell_type": "code",
   "execution_count": 22,
   "id": "08ffa3f4",
   "metadata": {},
   "outputs": [
    {
     "data": {
      "text/plain": [
       "['.ipynb_checkpoints',\n",
       " 'Title_Akas.csv',\n",
       " 'Title_Akas.csv.gz',\n",
       " 'Title_Basics.csv',\n",
       " 'Title_Basics.csv.gz',\n",
       " 'Title_Ratings.csv',\n",
       " 'Title_Ratings.csv.gz',\n",
       " 'tmdb_combined_years.csv.gz',\n",
       " 'tmdb_years']"
      ]
     },
     "execution_count": 22,
     "metadata": {},
     "output_type": "execute_result"
    }
   ],
   "source": [
    "#Checking the contents of the folder\n",
    "FOLDER = \"C:/Users/heill/OneDrive/Documents/Github/Database_Movies/Movies_files\"\n",
    "import os\n",
    "os.listdir(FOLDER)"
   ]
  },
  {
   "cell_type": "code",
   "execution_count": 23,
   "id": "a3d5c7c0",
   "metadata": {},
   "outputs": [],
   "source": [
    "#saving the dataframe\n",
    "new_df.to_csv(f\"{FOLDER}/tmdb_combined_years.csv.gz\",  index =False)"
   ]
  },
  {
   "cell_type": "code",
   "execution_count": 24,
   "id": "c26b50d3",
   "metadata": {},
   "outputs": [
    {
     "data": {
      "text/plain": [
       "['.ipynb_checkpoints',\n",
       " 'Title_Akas.csv',\n",
       " 'Title_Akas.csv.gz',\n",
       " 'Title_Basics.csv',\n",
       " 'Title_Basics.csv.gz',\n",
       " 'Title_Ratings.csv',\n",
       " 'Title_Ratings.csv.gz',\n",
       " 'tmdb_combined_years.csv.gz',\n",
       " 'tmdb_years']"
      ]
     },
     "execution_count": 24,
     "metadata": {},
     "output_type": "execute_result"
    }
   ],
   "source": [
    "#Confirmig the success of the saving process\n",
    "os.listdir(FOLDER)"
   ]
  }
 ],
 "metadata": {
  "kernelspec": {
   "display_name": "Python (dojo-env)",
   "language": "python",
   "name": "dojo-env"
  },
  "language_info": {
   "codemirror_mode": {
    "name": "ipython",
    "version": 3
   },
   "file_extension": ".py",
   "mimetype": "text/x-python",
   "name": "python",
   "nbconvert_exporter": "python",
   "pygments_lexer": "ipython3",
   "version": "3.7.12"
  },
  "toc": {
   "base_numbering": 1,
   "nav_menu": {},
   "number_sections": false,
   "sideBar": true,
   "skip_h1_title": false,
   "title_cell": "Table of Contents",
   "title_sidebar": "Contents",
   "toc_cell": false,
   "toc_position": {},
   "toc_section_display": true,
   "toc_window_display": false
  }
 },
 "nbformat": 4,
 "nbformat_minor": 5
}
