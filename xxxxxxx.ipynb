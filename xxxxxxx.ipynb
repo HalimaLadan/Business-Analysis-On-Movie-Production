{
 "cells": [
  {
   "cell_type": "code",
   "execution_count": 31,
   "id": "9c253b2a",
   "metadata": {},
   "outputs": [],
   "source": [
    "import numpy as np\n",
    "import pandas as pd\n",
    "import matplotlib.pyplot as plt\n",
    "import seaborn as sns\n",
    "\n",
    "import os, json, math, time\n",
    "from tqdm.notebook import tqdm_notebook"
   ]
  },
  {
   "cell_type": "code",
   "execution_count": 32,
   "id": "6ccac1ef",
   "metadata": {},
   "outputs": [
    {
     "data": {
      "text/plain": [
       "['final_tmdb_data_2001.csv',\n",
       " 'final_tmdb_data_2001.csv.gz',\n",
       " 'Title_Akas.csv',\n",
       " 'Title_Akas.csv.gz',\n",
       " 'Title_Basics.csv',\n",
       " 'Title_Basics.csv.gz',\n",
       " 'Title_Ratings.csv',\n",
       " 'Title_Ratings.csv.gz',\n",
       " 'tmdb_api_results_2001.json']"
      ]
     },
     "execution_count": 32,
     "metadata": {},
     "output_type": "execute_result"
    }
   ],
   "source": [
    "FOLDER = 'Movies_files/'\n",
    "os.makedirs(FOLDER, exist_ok =True)\n",
    "os.listdir(FOLDER)"
   ]
  },
  {
   "cell_type": "code",
   "execution_count": 33,
   "id": "d73d6c33",
   "metadata": {},
   "outputs": [],
   "source": [
    "YEARS_TO_GET = [2000, 2001]"
   ]
  },
  {
   "cell_type": "code",
   "execution_count": 34,
   "id": "56d291db",
   "metadata": {},
   "outputs": [
    {
     "data": {
      "application/vnd.jupyter.widget-view+json": {
       "model_id": "86209274de2b43879c8ad8e3d2701a2e",
       "version_major": 2,
       "version_minor": 0
      },
      "text/plain": [
       "YEARS:   0%|          | 0/2 [00:00<?, ?it/s]"
      ]
     },
     "metadata": {},
     "output_type": "display_data"
    }
   ],
   "source": [
    "# Start of OUTER loop\n",
    "for YEAR in tqdm_notebook(YEARS_TO_GET,desc='YEARS',position=0):\n",
    "#Defining the JSON file to store results for year\n",
    "    JSON_FILE = f\"{FOLDER}tmdb_api_results_{YEAR}.json\""
   ]
  },
  {
   "cell_type": "markdown",
   "id": "acbe6ce1",
   "metadata": {},
   "source": [
    "Checking if file already exists"
   ]
  },
  {
   "cell_type": "code",
   "execution_count": 35,
   "id": "b990f814",
   "metadata": {},
   "outputs": [
    {
     "data": {
      "text/plain": [
       "True"
      ]
     },
     "execution_count": 35,
     "metadata": {},
     "output_type": "execute_result"
    }
   ],
   "source": [
    "#checking for existence of file\n",
    "file_exists =os.path.isfile(JSON_FILE)\n",
    "file_exists"
   ]
  },
  {
   "cell_type": "code",
   "execution_count": 36,
   "id": "eae3582e",
   "metadata": {},
   "outputs": [],
   "source": [
    "#if it does not exist: create it\n",
    "if file_exists ==False:\n",
    "    \n",
    "#save an empty dict with just \"imdb_id\" to the new json file.\n",
    "\n",
    "    with open(JSON_FILE, \"w\") as f:\n",
    "        json.dump([{\"imdb_id\":0}], f)"
   ]
  },
  {
   "cell_type": "markdown",
   "id": "0d7b81e7",
   "metadata": {},
   "source": [
    "Defining and filtering the IDs to call"
   ]
  },
  {
   "cell_type": "code",
   "execution_count": 37,
   "id": "269763ad",
   "metadata": {},
   "outputs": [],
   "source": [
    "#Loading the dataframe from project part 1 as basics\n",
    "basics = pd.read_csv('Title_Basics.csv.gz')"
   ]
  },
  {
   "cell_type": "code",
   "execution_count": 38,
   "id": "c4a5e87f",
   "metadata": {},
   "outputs": [
    {
     "data": {
      "text/html": [
       "<div>\n",
       "<style scoped>\n",
       "    .dataframe tbody tr th:only-of-type {\n",
       "        vertical-align: middle;\n",
       "    }\n",
       "\n",
       "    .dataframe tbody tr th {\n",
       "        vertical-align: top;\n",
       "    }\n",
       "\n",
       "    .dataframe thead th {\n",
       "        text-align: right;\n",
       "    }\n",
       "</style>\n",
       "<table border=\"1\" class=\"dataframe\">\n",
       "  <thead>\n",
       "    <tr style=\"text-align: right;\">\n",
       "      <th></th>\n",
       "      <th>tconst</th>\n",
       "      <th>titleType</th>\n",
       "      <th>primaryTitle</th>\n",
       "      <th>originalTitle</th>\n",
       "      <th>isAdult</th>\n",
       "      <th>startYear</th>\n",
       "      <th>endYear</th>\n",
       "      <th>runtimeMinutes</th>\n",
       "      <th>genres</th>\n",
       "    </tr>\n",
       "  </thead>\n",
       "  <tbody>\n",
       "    <tr>\n",
       "      <th>0</th>\n",
       "      <td>tt0035423</td>\n",
       "      <td>movie</td>\n",
       "      <td>Kate &amp; Leopold</td>\n",
       "      <td>Kate &amp; Leopold</td>\n",
       "      <td>0</td>\n",
       "      <td>2001.0</td>\n",
       "      <td>NaN</td>\n",
       "      <td>118</td>\n",
       "      <td>Comedy,Fantasy,Romance</td>\n",
       "    </tr>\n",
       "    <tr>\n",
       "      <th>1</th>\n",
       "      <td>tt0062336</td>\n",
       "      <td>movie</td>\n",
       "      <td>The Tango of the Widower and Its Distorting Mi...</td>\n",
       "      <td>El Tango del Viudo y Su Espejo Deformante</td>\n",
       "      <td>0</td>\n",
       "      <td>2020.0</td>\n",
       "      <td>NaN</td>\n",
       "      <td>70</td>\n",
       "      <td>Drama</td>\n",
       "    </tr>\n",
       "  </tbody>\n",
       "</table>\n",
       "</div>"
      ],
      "text/plain": [
       "      tconst titleType                                       primaryTitle  \\\n",
       "0  tt0035423     movie                                     Kate & Leopold   \n",
       "1  tt0062336     movie  The Tango of the Widower and Its Distorting Mi...   \n",
       "\n",
       "                               originalTitle  isAdult  startYear  endYear  \\\n",
       "0                             Kate & Leopold        0     2001.0      NaN   \n",
       "1  El Tango del Viudo y Su Espejo Deformante        0     2020.0      NaN   \n",
       "\n",
       "   runtimeMinutes                  genres  \n",
       "0             118  Comedy,Fantasy,Romance  \n",
       "1              70                   Drama  "
      ]
     },
     "execution_count": 38,
     "metadata": {},
     "output_type": "execute_result"
    }
   ],
   "source": [
    "basics.head(2)"
   ]
  },
  {
   "cell_type": "code",
   "execution_count": 39,
   "id": "c7cec319",
   "metadata": {},
   "outputs": [],
   "source": [
    "#Saving new year as the current df\n",
    "df =basics.loc[basics[\"startYear\"]==YEAR].copy()\n",
    "\n",
    "#Saving movie ids to the list\n",
    "movie_ids =df[\"tconst\"].copy()#.to_list"
   ]
  },
  {
   "cell_type": "code",
   "execution_count": 40,
   "id": "4c3848f4",
   "metadata": {},
   "outputs": [],
   "source": [
    "#Load in any existing API results with pd.read_json\n",
    "#Check to see if any of the movie_ids to get are already in the JSON file.\n",
    "#Filter out only movies that are missing from the JSON file to use in the loop"
   ]
  },
  {
   "cell_type": "code",
   "execution_count": 41,
   "id": "9ca7bc2b",
   "metadata": {},
   "outputs": [
    {
     "data": {
      "text/html": [
       "<div>\n",
       "<style scoped>\n",
       "    .dataframe tbody tr th:only-of-type {\n",
       "        vertical-align: middle;\n",
       "    }\n",
       "\n",
       "    .dataframe tbody tr th {\n",
       "        vertical-align: top;\n",
       "    }\n",
       "\n",
       "    .dataframe thead th {\n",
       "        text-align: right;\n",
       "    }\n",
       "</style>\n",
       "<table border=\"1\" class=\"dataframe\">\n",
       "  <thead>\n",
       "    <tr style=\"text-align: right;\">\n",
       "      <th></th>\n",
       "      <th>imdb_id</th>\n",
       "    </tr>\n",
       "  </thead>\n",
       "  <tbody>\n",
       "    <tr>\n",
       "      <th>0</th>\n",
       "      <td>0</td>\n",
       "    </tr>\n",
       "  </tbody>\n",
       "</table>\n",
       "</div>"
      ],
      "text/plain": [
       "   imdb_id\n",
       "0        0"
      ]
     },
     "execution_count": 41,
     "metadata": {},
     "output_type": "execute_result"
    }
   ],
   "source": [
    "previous_df = pd.read_json(JSON_FILE)\n",
    "previous_df"
   ]
  },
  {
   "cell_type": "code",
   "execution_count": 42,
   "id": "80b07d1d",
   "metadata": {},
   "outputs": [
    {
     "data": {
      "text/plain": [
       "0        tt0035423\n",
       "11       tt0114447\n",
       "18       tt0118589\n",
       "19       tt0118652\n",
       "24       tt0119004\n",
       "           ...    \n",
       "77049    tt9071078\n",
       "77496    tt9212730\n",
       "77527    tt9228234\n",
       "78290    tt9555974\n",
       "78343    tt9578462\n",
       "Name: tconst, Length: 1517, dtype: object"
      ]
     },
     "execution_count": 42,
     "metadata": {},
     "output_type": "execute_result"
    }
   ],
   "source": [
    "#filtering movie IDS already in the JSON_FILE\n",
    "movie_ids_to_get = movie_ids[~movie_ids.isin(previous_df[\"imdb_id\"])]\n",
    "movie_ids_to_get"
   ]
  },
  {
   "cell_type": "code",
   "execution_count": 43,
   "id": "33b434ee",
   "metadata": {},
   "outputs": [],
   "source": [
    "def movie_with_rating (movie_id):\n",
    "\n",
    "#Retrieving movie and release dates\n",
    "    movie = tmdb.Movies(movie_id)\n",
    "    #Constructing output dict\n",
    "    movie_info = movie.info()\n",
    "    releases = movie.releases()\n",
    "    #loop through counteries in the releases\n",
    "    for c in releases[\"countries\"]:\n",
    "    #if the country abbreviatedion==US\n",
    "        if c[\"iso_3166_1\"]==\"US\":\n",
    "        #Save a \"certification\" key in the info dict with the certification\n",
    "            movie_info[\"certification\"] = c[\"certification\"]\n",
    "    return movie_info"
   ]
  },
  {
   "cell_type": "markdown",
   "id": "c71c84f4",
   "metadata": {},
   "source": [
    "INNER LOOP:\n",
    "\n",
    "Now we have defined the \"movie_ids_to_get\". It includes the ids from our dataframe in the year we are seeking, and it excludes any that we have already made calls for.\n",
    "\n",
    "We will use this list for our inner loop of API calls."
   ]
  },
  {
   "cell_type": "code",
   "execution_count": 44,
   "id": "79056c87",
   "metadata": {},
   "outputs": [],
   "source": [
    "#USing a function to append new results to the existing JSON file\n",
    "\n",
    "def write_json (new_data, filename):\n",
    "    with open(filename, \"r+\") as file:\n",
    "        #First we load existing data into a dict\n",
    "        file_data = json.load(file)\n",
    "        if (type(new_data)==list)& (type(file_data)==list):\n",
    "            file_data.extend(new_data)# can use .append as alternative\n",
    "        else:\n",
    "            file_data.append(new_data)\n",
    "        #setting the current files's position at offset.\n",
    "        file.seek(0)\n",
    "        #converting back to json\n",
    "        json.dump(file_data, file)"
   ]
  },
  {
   "cell_type": "markdown",
   "id": "0c532e08",
   "metadata": {},
   "source": [
    "OUTER LOOP\n",
    "\n",
    "defining a fuction to make API calls and adding the certification to the .info results"
   ]
  },
  {
   "cell_type": "code",
   "execution_count": 45,
   "id": "06ab453f",
   "metadata": {},
   "outputs": [
    {
     "data": {
      "application/vnd.jupyter.widget-view+json": {
       "model_id": "67e2695f524a40398df6262a472b2161",
       "version_major": 2,
       "version_minor": 0
      },
      "text/plain": [
       "Movies from 2001:   0%|          | 0/1517 [00:00<?, ?it/s]"
      ]
     },
     "metadata": {},
     "output_type": "display_data"
    }
   ],
   "source": [
    "#REtrieve the movie ID from list\n",
    "for movie_id in tqdm_notebook(movie_ids_to_get, \n",
    "                             desc =f'Movies from {YEAR}',\n",
    "                              position =1,\n",
    "                              leave =True):\n",
    "    \n",
    "    #retrieve data for the movie id\n",
    "    try:\n",
    "        temp =movie_with_rating(movie_id)#This will use the pre-made function\n",
    "        #Append the results to existing file using the pre-made function\n",
    "        write_json(temp, JSON_FILE)\n",
    "        #Set to 20ms sleep to avoid overwhelming server\n",
    "        time.sleep(0.02)\n",
    "        \n",
    "    #if it fails, make a dict with just the id and None for certification\n",
    "    except Exception as e:\n",
    "        continue\n",
    "        "
   ]
  },
  {
   "cell_type": "markdown",
   "id": "d1c3071a",
   "metadata": {},
   "source": [
    "Saving the year's result as a csv.gz file"
   ]
  },
  {
   "cell_type": "code",
   "execution_count": 46,
   "id": "a5fd7e64",
   "metadata": {},
   "outputs": [],
   "source": [
    "final_year_df =pd.read_json(JSON_FILE)\n",
    "final_year_df.to_csv(f\"{FOLDER}final_tmdb_data_{YEAR}.csv.gz\", compression =\"gzip\", index =False)"
   ]
  },
  {
   "cell_type": "code",
   "execution_count": 47,
   "id": "3164857d",
   "metadata": {},
   "outputs": [
    {
     "data": {
      "text/html": [
       "<div>\n",
       "<style scoped>\n",
       "    .dataframe tbody tr th:only-of-type {\n",
       "        vertical-align: middle;\n",
       "    }\n",
       "\n",
       "    .dataframe tbody tr th {\n",
       "        vertical-align: top;\n",
       "    }\n",
       "\n",
       "    .dataframe thead th {\n",
       "        text-align: right;\n",
       "    }\n",
       "</style>\n",
       "<table border=\"1\" class=\"dataframe\">\n",
       "  <thead>\n",
       "    <tr style=\"text-align: right;\">\n",
       "      <th></th>\n",
       "      <th>imdb_id</th>\n",
       "    </tr>\n",
       "  </thead>\n",
       "  <tbody>\n",
       "    <tr>\n",
       "      <th>0</th>\n",
       "      <td>0</td>\n",
       "    </tr>\n",
       "  </tbody>\n",
       "</table>\n",
       "</div>"
      ],
      "text/plain": [
       "   imdb_id\n",
       "0        0"
      ]
     },
     "execution_count": 47,
     "metadata": {},
     "output_type": "execute_result"
    }
   ],
   "source": [
    "final_year_df"
   ]
  }
 ],
 "metadata": {
  "kernelspec": {
   "display_name": "Python (dojo-env)",
   "language": "python",
   "name": "dojo-env"
  },
  "language_info": {
   "codemirror_mode": {
    "name": "ipython",
    "version": 3
   },
   "file_extension": ".py",
   "mimetype": "text/x-python",
   "name": "python",
   "nbconvert_exporter": "python",
   "pygments_lexer": "ipython3",
   "version": "3.7.12"
  },
  "toc": {
   "base_numbering": 1,
   "nav_menu": {},
   "number_sections": true,
   "sideBar": true,
   "skip_h1_title": false,
   "title_cell": "Table of Contents",
   "title_sidebar": "Contents",
   "toc_cell": false,
   "toc_position": {},
   "toc_section_display": true,
   "toc_window_display": false
  }
 },
 "nbformat": 4,
 "nbformat_minor": 5
}
