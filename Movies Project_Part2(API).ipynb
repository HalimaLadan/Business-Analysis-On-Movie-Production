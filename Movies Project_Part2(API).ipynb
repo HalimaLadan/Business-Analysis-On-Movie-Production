{
 "cells": [
  {
   "cell_type": "markdown",
   "id": "7b28abe8",
   "metadata": {},
   "source": [
    "# Movie Production(Business Analysis)\n",
    "\n",
    "### Halima Bulama-Ladan\n",
    "#### April/29/2022\n",
    "\n",
    "## Business Problem:\n",
    "A set of data was gotten from the IMDB for analyzing the success of movies, but it was discovered that the dataset contained no financial information on the movies(Budget or Revenue). In order for the movies to be analyzed , additional data on the financial is required. \n",
    "\n",
    "\n",
    "The business stakeholder, identified The Movie Database (TMDB) as a great source of financial data (https://www.themoviedb.org/), and requested that information on budget, revenue and MPAA rating (G/PG/PG-13/R), which is also called \"Certification\", should be extracted and added to the initial data.\n",
    "\n",
    "The stakeholder is only interested in movies with the same criteria as the ones specified in the initial IMDB ETL extracted.\n",
    "\n",
    "Extractions on movies starting from year 2000 and 2001 was requested as a proof-of-concept The files are to be saved in  separate .csv.gz file."
   ]
  },
  {
   "cell_type": "markdown",
   "id": "274af7db",
   "metadata": {},
   "source": [
    "**Importing relevant libraries**"
   ]
  },
  {
   "cell_type": "code",
   "execution_count": 65,
   "id": "9c253b2a",
   "metadata": {},
   "outputs": [
    {
     "name": "stdout",
     "output_type": "stream",
     "text": [
      "Requirement already satisfied: tmdbsimple in c:\\users\\heill\\anaconda3\\envs\\dojo-env\\lib\\site-packages (2.9.1)\n",
      "Requirement already satisfied: requests in c:\\users\\heill\\anaconda3\\envs\\dojo-env\\lib\\site-packages (from tmdbsimple) (2.27.1)\n",
      "Requirement already satisfied: charset-normalizer~=2.0.0 in c:\\users\\heill\\anaconda3\\envs\\dojo-env\\lib\\site-packages (from requests->tmdbsimple) (2.0.12)\n",
      "Requirement already satisfied: certifi>=2017.4.17 in c:\\users\\heill\\anaconda3\\envs\\dojo-env\\lib\\site-packages (from requests->tmdbsimple) (2021.10.8)\n",
      "Requirement already satisfied: idna<4,>=2.5 in c:\\users\\heill\\anaconda3\\envs\\dojo-env\\lib\\site-packages (from requests->tmdbsimple) (3.3)\n",
      "Requirement already satisfied: urllib3<1.27,>=1.21.1 in c:\\users\\heill\\anaconda3\\envs\\dojo-env\\lib\\site-packages (from requests->tmdbsimple) (1.26.8)\n"
     ]
    }
   ],
   "source": [
    "import numpy as np\n",
    "import pandas as pd\n",
    "import matplotlib.pyplot as plt\n",
    "import seaborn as sns\n",
    "!pip install tmdbsimple\n",
    "import os, json, math, time\n",
    "from tqdm.notebook import tqdm_notebook"
   ]
  },
  {
   "cell_type": "markdown",
   "id": "0d908132",
   "metadata": {},
   "source": [
    "**Loading API Credentials**"
   ]
  },
  {
   "cell_type": "code",
   "execution_count": 66,
   "id": "d1675ee9",
   "metadata": {},
   "outputs": [
    {
     "data": {
      "text/plain": [
       "dict_keys(['api_key'])"
      ]
     },
     "execution_count": 66,
     "metadata": {},
     "output_type": "execute_result"
    }
   ],
   "source": [
    "import json\n",
    "\n",
    "#Loading the api credentials from the .secret folder.\n",
    "with open(\"/Users/heill/.secret/tmdb_api.json\", \"r\") as f:\n",
    "    login = json.load(f)\n",
    "    \n",
    "#Display of the api key\n",
    "login.keys()"
   ]
  },
  {
   "cell_type": "code",
   "execution_count": 67,
   "id": "64d3474a",
   "metadata": {},
   "outputs": [],
   "source": [
    "#Loging in with the api keys\n",
    "import tmdbsimple as tmdb\n",
    "tmdb.API_KEY = login['api_key']"
   ]
  },
  {
   "cell_type": "markdown",
   "id": "d2b41d97",
   "metadata": {},
   "source": [
    "**Testing of API call**"
   ]
  },
  {
   "cell_type": "code",
   "execution_count": 68,
   "id": "cf2656db",
   "metadata": {
    "scrolled": true
   },
   "outputs": [
    {
     "data": {
      "text/plain": [
       "{'adult': False,\n",
       " 'backdrop_path': '/ncEsesgOJDNrTUED89hYbA117wo.jpg',\n",
       " 'belongs_to_collection': {'id': 2344,\n",
       "  'name': 'The Matrix Collection',\n",
       "  'poster_path': '/bV9qTVHTVf0gkW0j7p7M0ILD4pG.jpg',\n",
       "  'backdrop_path': '/bRm2DEgUiYciDw3myHuYFInD7la.jpg'},\n",
       " 'budget': 63000000,\n",
       " 'genres': [{'id': 28, 'name': 'Action'},\n",
       "  {'id': 878, 'name': 'Science Fiction'}],\n",
       " 'homepage': 'http://www.warnerbros.com/matrix',\n",
       " 'id': 603,\n",
       " 'imdb_id': 'tt0133093',\n",
       " 'original_language': 'en',\n",
       " 'original_title': 'The Matrix',\n",
       " 'overview': 'Set in the 22nd century, The Matrix tells the story of a computer hacker who joins a group of underground insurgents fighting the vast and powerful computers who now rule the earth.',\n",
       " 'popularity': 67.097,\n",
       " 'poster_path': '/f89U3ADr1oiB1s9GkdPOEpXUk5H.jpg',\n",
       " 'production_companies': [{'id': 79,\n",
       "   'logo_path': '/tpFpsqbleCzEE2p5EgvUq6ozfCA.png',\n",
       "   'name': 'Village Roadshow Pictures',\n",
       "   'origin_country': 'US'},\n",
       "  {'id': 372,\n",
       "   'logo_path': None,\n",
       "   'name': 'Groucho II Film Partnership',\n",
       "   'origin_country': ''},\n",
       "  {'id': 1885,\n",
       "   'logo_path': '/xlvoOZr4s1PygosrwZyolIFe5xs.png',\n",
       "   'name': 'Silver Pictures',\n",
       "   'origin_country': 'US'},\n",
       "  {'id': 174,\n",
       "   'logo_path': '/IuAlhI9eVC9Z8UQWOIDdWRKSEJ.png',\n",
       "   'name': 'Warner Bros. Pictures',\n",
       "   'origin_country': 'US'}],\n",
       " 'production_countries': [{'iso_3166_1': 'US',\n",
       "   'name': 'United States of America'}],\n",
       " 'release_date': '1999-03-30',\n",
       " 'revenue': 463517383,\n",
       " 'runtime': 136,\n",
       " 'spoken_languages': [{'english_name': 'English',\n",
       "   'iso_639_1': 'en',\n",
       "   'name': 'English'}],\n",
       " 'status': 'Released',\n",
       " 'tagline': 'Welcome to the Real World.',\n",
       " 'title': 'The Matrix',\n",
       " 'video': False,\n",
       " 'vote_average': 8.2,\n",
       " 'vote_count': 21457}"
      ]
     },
     "execution_count": 68,
     "metadata": {},
     "output_type": "execute_result"
    }
   ],
   "source": [
    "#Making a movie object using the .Movies function from tmdb\n",
    "movie = tmdb.Movies(603)\n",
    "\n",
    "#calling the movie objects dictionary\n",
    "movie_info = movie.info()\n",
    "movie_info"
   ]
  },
  {
   "cell_type": "markdown",
   "id": "da11c32d",
   "metadata": {},
   "source": [
    "**The addition of Revenue, was successfull and this can be viewed using the info funct. However Certification has been omitted. This needs to be rectified inorder to meet the requirements**"
   ]
  },
  {
   "cell_type": "code",
   "execution_count": 75,
   "id": "bb612883",
   "metadata": {},
   "outputs": [
    {
     "ename": "NameError",
     "evalue": "name 'info' is not defined",
     "output_type": "error",
     "traceback": [
      "\u001b[1;31m---------------------------------------------------------------------------\u001b[0m",
      "\u001b[1;31mNameError\u001b[0m                                 Traceback (most recent call last)",
      "\u001b[1;32m~\\AppData\\Local\\Temp\\ipykernel_1152\\461986873.py\u001b[0m in \u001b[0;36m<module>\u001b[1;34m\u001b[0m\n\u001b[1;32m----> 1\u001b[1;33m \u001b[0minfo\u001b[0m\u001b[1;33m[\u001b[0m\u001b[1;34m'budget'\u001b[0m\u001b[1;33m]\u001b[0m\u001b[1;33m\u001b[0m\u001b[1;33m\u001b[0m\u001b[0m\n\u001b[0m",
      "\u001b[1;31mNameError\u001b[0m: name 'info' is not defined"
     ]
    }
   ],
   "source": [
    "info['budget']"
   ]
  },
  {
   "cell_type": "code",
   "execution_count": null,
   "id": "2dc53384",
   "metadata": {},
   "outputs": [],
   "source": [
    "info['revenue']"
   ]
  },
  {
   "cell_type": "code",
   "execution_count": null,
   "id": "a80a578f",
   "metadata": {},
   "outputs": [],
   "source": [
    "info['imdb_id']"
   ]
  },
  {
   "cell_type": "code",
   "execution_count": null,
   "id": "6b52ad9f",
   "metadata": {},
   "outputs": [],
   "source": [
    "movie = tmdb.Movies('tt1361336')\n",
    "info = movie.info()\n",
    "info['budget']"
   ]
  },
  {
   "cell_type": "markdown",
   "id": "f4c7cc2f",
   "metadata": {},
   "source": [
    "**Below is a sample extraction of certification using .release()"
   ]
  },
  {
   "cell_type": "code",
   "execution_count": null,
   "id": "d4ba899c",
   "metadata": {},
   "outputs": [],
   "source": [
    "# example from package README - the rating of the movie if it is in the US\n",
    "response = movie.releases()\n",
    "for c in movie.countries:\n",
    "    if c['iso_3166_1'] == 'US':\n",
    "        print(c['certification'])"
   ]
  },
  {
   "cell_type": "markdown",
   "id": "613f030d",
   "metadata": {},
   "source": [
    "**Creating a folder to save data, or simply calling it if it already exist.**"
   ]
  },
  {
   "cell_type": "code",
   "execution_count": 70,
   "id": "6ccac1ef",
   "metadata": {},
   "outputs": [
    {
     "data": {
      "text/plain": [
       "['final_tmdb_data_2000.csv.gz',\n",
       " 'final_tmdb_data_2001.csv',\n",
       " 'final_tmdb_data_2001.csv.gz',\n",
       " 'Title_Akas.csv',\n",
       " 'Title_Akas.csv.gz',\n",
       " 'Title_Basics.csv',\n",
       " 'Title_Basics.csv.gz',\n",
       " 'Title_Ratings.csv',\n",
       " 'Title_Ratings.csv.gz',\n",
       " 'tmdb_api_results_2000.json',\n",
       " 'tmdb_api_results_2001.json']"
      ]
     },
     "execution_count": 70,
     "metadata": {},
     "output_type": "execute_result"
    }
   ],
   "source": [
    "FOLDER = 'Movies_files/'\n",
    "os.makedirs(FOLDER, exist_ok =True)\n",
    "os.listdir(FOLDER)"
   ]
  },
  {
   "cell_type": "markdown",
   "id": "8611ffc6",
   "metadata": {},
   "source": [
    "**Defining the years to extract**"
   ]
  },
  {
   "cell_type": "code",
   "execution_count": 73,
   "id": "d73d6c33",
   "metadata": {},
   "outputs": [],
   "source": [
    "YEARS_TO_GET = [2000, 2001]"
   ]
  },
  {
   "cell_type": "markdown",
   "id": "242cfc63",
   "metadata": {},
   "source": [
    "###  Defining functions for ease of coding"
   ]
  },
  {
   "cell_type": "markdown",
   "id": "7210f4a9",
   "metadata": {},
   "source": [
    "**Movie Rating function**"
   ]
  },
  {
   "cell_type": "code",
   "execution_count": 69,
   "id": "33b434ee",
   "metadata": {},
   "outputs": [],
   "source": [
    "def movie_with_rating (movie_id):\n",
    "\n",
    "#Retrieving movie and release dates\n",
    "    movie = tmdb.Movies(movie_id)\n",
    "    #Constructing output dict\n",
    "    movie_info = movie.info()\n",
    "    releases = movie.releases()\n",
    "    #loop through counteries in the releases\n",
    "    for c in releases[\"countries\"]:\n",
    "    #if the country abbreviatedion==US\n",
    "        if c[\"iso_3166_1\"]==\"US\":\n",
    "        #Save a \"certification\" key in the info dict with the certification\n",
    "            movie_info[\"certification\"] = c[\"certification\"]\n",
    "    return movie_info"
   ]
  },
  {
   "cell_type": "markdown",
   "id": "c31e8812",
   "metadata": {},
   "source": [
    "**Function to append results to the JSON file**"
   ]
  },
  {
   "cell_type": "code",
   "execution_count": 71,
   "id": "79056c87",
   "metadata": {},
   "outputs": [],
   "source": [
    "#USing a function to append new results to the existing JSON file\n",
    "\n",
    "def write_json (new_data, filename):\n",
    "    with open(filename, \"r+\") as file:\n",
    "        #First we load existing data into a dict\n",
    "        file_data = json.load(file)\n",
    "        if (type(new_data)==list)& (type(file_data)==list):\n",
    "            file_data.extend(new_data)# can use .append as alternative\n",
    "        else:\n",
    "            file_data.append(new_data)\n",
    "        #setting the current files's position at offset.\n",
    "        file.seek(0)\n",
    "        #converting back to json\n",
    "        json.dump(file_data, file)"
   ]
  },
  {
   "cell_type": "markdown",
   "id": "022a3299",
   "metadata": {},
   "source": [
    "**LOading the dataframe to use in specifying the parameters of the loop.**"
   ]
  },
  {
   "cell_type": "code",
   "execution_count": 72,
   "id": "269763ad",
   "metadata": {},
   "outputs": [
    {
     "data": {
      "text/html": [
       "<div>\n",
       "<style scoped>\n",
       "    .dataframe tbody tr th:only-of-type {\n",
       "        vertical-align: middle;\n",
       "    }\n",
       "\n",
       "    .dataframe tbody tr th {\n",
       "        vertical-align: top;\n",
       "    }\n",
       "\n",
       "    .dataframe thead th {\n",
       "        text-align: right;\n",
       "    }\n",
       "</style>\n",
       "<table border=\"1\" class=\"dataframe\">\n",
       "  <thead>\n",
       "    <tr style=\"text-align: right;\">\n",
       "      <th></th>\n",
       "      <th>tconst</th>\n",
       "      <th>titleType</th>\n",
       "      <th>primaryTitle</th>\n",
       "      <th>originalTitle</th>\n",
       "      <th>isAdult</th>\n",
       "      <th>startYear</th>\n",
       "      <th>endYear</th>\n",
       "      <th>runtimeMinutes</th>\n",
       "      <th>genres</th>\n",
       "    </tr>\n",
       "  </thead>\n",
       "  <tbody>\n",
       "    <tr>\n",
       "      <th>0</th>\n",
       "      <td>tt0035423</td>\n",
       "      <td>movie</td>\n",
       "      <td>Kate &amp; Leopold</td>\n",
       "      <td>Kate &amp; Leopold</td>\n",
       "      <td>0</td>\n",
       "      <td>2001.0</td>\n",
       "      <td>NaN</td>\n",
       "      <td>118</td>\n",
       "      <td>Comedy,Fantasy,Romance</td>\n",
       "    </tr>\n",
       "    <tr>\n",
       "      <th>1</th>\n",
       "      <td>tt0062336</td>\n",
       "      <td>movie</td>\n",
       "      <td>The Tango of the Widower and Its Distorting Mi...</td>\n",
       "      <td>El Tango del Viudo y Su Espejo Deformante</td>\n",
       "      <td>0</td>\n",
       "      <td>2020.0</td>\n",
       "      <td>NaN</td>\n",
       "      <td>70</td>\n",
       "      <td>Drama</td>\n",
       "    </tr>\n",
       "  </tbody>\n",
       "</table>\n",
       "</div>"
      ],
      "text/plain": [
       "      tconst titleType                                       primaryTitle  \\\n",
       "0  tt0035423     movie                                     Kate & Leopold   \n",
       "1  tt0062336     movie  The Tango of the Widower and Its Distorting Mi...   \n",
       "\n",
       "                               originalTitle  isAdult  startYear  endYear  \\\n",
       "0                             Kate & Leopold        0     2001.0      NaN   \n",
       "1  El Tango del Viudo y Su Espejo Deformante        0     2020.0      NaN   \n",
       "\n",
       "   runtimeMinutes                  genres  \n",
       "0             118  Comedy,Fantasy,Romance  \n",
       "1              70                   Drama  "
      ]
     },
     "execution_count": 72,
     "metadata": {},
     "output_type": "execute_result"
    }
   ],
   "source": [
    "#Loading the dataframe from project part 1 as basics\n",
    "basics = pd.read_csv('Title_Basics.csv.gz')\n",
    "basics.head(2)"
   ]
  },
  {
   "cell_type": "markdown",
   "id": "bbcfba24",
   "metadata": {},
   "source": [
    "**A loop to call API**"
   ]
  },
  {
   "cell_type": "code",
   "execution_count": 74,
   "id": "56d291db",
   "metadata": {},
   "outputs": [
    {
     "data": {
      "application/vnd.jupyter.widget-view+json": {
       "model_id": "0ed94cf5c6d04a298320e250b41186b6",
       "version_major": 2,
       "version_minor": 0
      },
      "text/plain": [
       "YEARS:   0%|          | 0/2 [00:00<?, ?it/s]"
      ]
     },
     "metadata": {},
     "output_type": "display_data"
    },
    {
     "data": {
      "application/vnd.jupyter.widget-view+json": {
       "model_id": "e9343648f55344a28bded53a8fc4eb99",
       "version_major": 2,
       "version_minor": 0
      },
      "text/plain": [
       "Movies from 2000:   0%|          | 0/938 [00:00<?, ?it/s]"
      ]
     },
     "metadata": {},
     "output_type": "display_data"
    },
    {
     "data": {
      "application/vnd.jupyter.widget-view+json": {
       "model_id": "a0de2cb79c974952b1cc34e8d78ae743",
       "version_major": 2,
       "version_minor": 0
      },
      "text/plain": [
       "Movies from 2001:   0%|          | 0/1517 [00:00<?, ?it/s]"
      ]
     },
     "metadata": {},
     "output_type": "display_data"
    }
   ],
   "source": [
    "# Start of OUTER loop\n",
    "for YEAR in tqdm_notebook(YEARS_TO_GET,desc='YEARS',position=0):\n",
    "    \n",
    "    #Defining the JSON file to store results for year\n",
    "    JSON_FILE = f\"{FOLDER}tmdb_api_results_{YEAR}.json\"\n",
    "\n",
    "        #checking for existence of file\n",
    "    file_exists =os.path.isfile(JSON_FILE)\n",
    "\n",
    "    #Checking if file already exists, if it does not exist: create it\n",
    "    if file_exists ==False:\n",
    "\n",
    "    #save an empty dict with just \"imdb_id\" to the new json file.\n",
    "\n",
    "        with open(JSON_FILE, \"w\") as f:\n",
    "            json.dump([{\"imdb_id\":0}], f)\n",
    "\n",
    "    #Defining and filtering the IDs to call\n",
    "\n",
    "    #Saving new year as the current df\n",
    "    df =basics.loc[basics[\"startYear\"]==YEAR].copy()\n",
    "\n",
    "    #Saving movie ids to the list\n",
    "    movie_ids =df[\"tconst\"].copy()#.to_list\n",
    "  \n",
    "\n",
    "    #Load in any existing API results with pd.read_json\n",
    "    #Check to see if any of the movie_ids to get are already in the JSON file.\n",
    "    #Filter out only movies that are missing from the JSON file to use in the loop\n",
    "\n",
    "    previous_df = pd.read_json(JSON_FILE)\n",
    "    \n",
    "\n",
    "    #filtering movie IDS already in the JSON_FILE\n",
    "    movie_ids_to_get = movie_ids[~movie_ids.isin(previous_df[\"imdb_id\"])]\n",
    "   \n",
    "\n",
    "    \n",
    "    #INNER LOOP:  .\n",
    "\n",
    "    #REtrieve the movie ID from list\n",
    "    for movie_id in tqdm_notebook(movie_ids_to_get, \n",
    "                                 desc =f'Movies from {YEAR}',\n",
    "                                  position =1,\n",
    "                                  leave =True):\n",
    "\n",
    "        #retrieve data for the movie id\n",
    "        try:\n",
    "            temp =movie_with_rating(movie_id)#This will use the pre-made function\n",
    "            #Append the results to existing file using the pre-made function\n",
    "            write_json(temp, JSON_FILE)\n",
    "            #Set to 20ms sleep to avoid overwhelming server\n",
    "            time.sleep(0.02)\n",
    "\n",
    "        #if it fails, make a dict with just the id and None for certification\n",
    "        except Exception as e:\n",
    "            continue\n",
    "        \n",
    "final_year_df =pd.read_json(JSON_FILE)\n",
    "final_year_df.to_csv(f\"{FOLDER}final_tmdb_data_{YEAR}.csv.gz\", compression =\"gzip\", index =False)"
   ]
  }
 ],
 "metadata": {
  "kernelspec": {
   "display_name": "Python (dojo-env)",
   "language": "python",
   "name": "dojo-env"
  },
  "language_info": {
   "codemirror_mode": {
    "name": "ipython",
    "version": 3
   },
   "file_extension": ".py",
   "mimetype": "text/x-python",
   "name": "python",
   "nbconvert_exporter": "python",
   "pygments_lexer": "ipython3",
   "version": "3.7.12"
  },
  "toc": {
   "base_numbering": 1,
   "nav_menu": {},
   "number_sections": true,
   "sideBar": true,
   "skip_h1_title": false,
   "title_cell": "Table of Contents",
   "title_sidebar": "Contents",
   "toc_cell": false,
   "toc_position": {},
   "toc_section_display": true,
   "toc_window_display": false
  }
 },
 "nbformat": 4,
 "nbformat_minor": 5
}
