{
 "cells": [
  {
   "cell_type": "markdown",
   "id": "de2c9dd6",
   "metadata": {},
   "source": [
    "# Movies_Project.\n"
   ]
  },
  {
   "cell_type": "code",
   "execution_count": 3,
   "id": "bd05660f",
   "metadata": {},
   "outputs": [],
   "source": [
    "import pandas as pd\n",
    "import numpy as np"
   ]
  },
  {
   "cell_type": "code",
   "execution_count": null,
   "id": "d5399dfa",
   "metadata": {},
   "outputs": [],
   "source": [
    "#t_basics_url = \"https://datasets.imdbws.com/title.basics.tsv.gz\"\n",
    "t_akas_url =\"https://datasets.imdbws.com/title.akas.tsv.gz\"\n",
    "t_ratings_url =\"https://datasets.imdbws.com/title.ratings.tsv.gz\""
   ]
  },
  {
   "cell_type": "code",
   "execution_count": null,
   "id": "0cdf7696",
   "metadata": {},
   "outputs": [],
   "source": [
    "#basics= pd.read_csv(t_basics_url, sep ='\\t', low_memory =False)\n",
    "#basics.head()"
   ]
  },
  {
   "cell_type": "markdown",
   "id": "902ce618",
   "metadata": {},
   "source": [
    "Filtering out movies with null values in genre or runtime"
   ]
  },
  {
   "cell_type": "code",
   "execution_count": null,
   "id": "25a5fa24",
   "metadata": {},
   "outputs": [],
   "source": [
    "#Converting the \\N null value into a pandas recognizable format of np.nan\n",
    "basics =basics.replace({\"\\\\N\":np.nan})"
   ]
  },
  {
   "cell_type": "markdown",
   "id": "ea7556a0",
   "metadata": {},
   "source": [
    "**Checking the null values**"
   ]
  },
  {
   "cell_type": "code",
   "execution_count": null,
   "id": "af5e7d5f",
   "metadata": {},
   "outputs": [],
   "source": [
    "basics.isnull().sum()"
   ]
  },
  {
   "cell_type": "code",
   "execution_count": null,
   "id": "795d8835",
   "metadata": {},
   "outputs": [],
   "source": [
    "#Dropping null values in genre and runtime\n",
    "basics = basics.dropna(subset=['genres', 'runtimeMinutes'])"
   ]
  },
  {
   "cell_type": "code",
   "execution_count": null,
   "id": "463d8e66",
   "metadata": {
    "scrolled": true
   },
   "outputs": [],
   "source": [
    "#Confirming changes\n",
    "basics.isnull().sum()"
   ]
  },
  {
   "cell_type": "markdown",
   "id": "b9327c6d",
   "metadata": {},
   "source": [
    "**Filtering only movies with full-length (titleType = \"movie\")**"
   ]
  },
  {
   "cell_type": "code",
   "execution_count": null,
   "id": "29177487",
   "metadata": {},
   "outputs": [],
   "source": [
    "basics = basics[basics[\"titleType\"] == 'movie']"
   ]
  },
  {
   "cell_type": "code",
   "execution_count": null,
   "id": "1e4b5333",
   "metadata": {
    "scrolled": true
   },
   "outputs": [],
   "source": [
    "#Confirming changes\n",
    "basics.head(5)"
   ]
  },
  {
   "cell_type": "markdown",
   "id": "dd6df12a",
   "metadata": {},
   "source": [
    "**Filtering only movies that were released between 2000 and 2021(2000, and 2021 inclusive)**"
   ]
  },
  {
   "cell_type": "code",
   "execution_count": null,
   "id": "1ba87836",
   "metadata": {},
   "outputs": [],
   "source": [
    "basics['startYear'] = basics['startYear'].astype(int)"
   ]
  },
  {
   "cell_type": "code",
   "execution_count": null,
   "id": "d375c42c",
   "metadata": {},
   "outputs": [],
   "source": [
    "basics['startYear'] >=2000 "
   ]
  },
  {
   "cell_type": "code",
   "execution_count": null,
   "id": "a1d94b13",
   "metadata": {
    "scrolled": true
   },
   "outputs": [],
   "source": [
    "basics['startYear'] <=2021"
   ]
  },
  {
   "cell_type": "code",
   "execution_count": null,
   "id": "dd19aa6e",
   "metadata": {},
   "outputs": [],
   "source": [
    "basics = basics[(basics['startYear'] >=2000 ) & (basics['startYear'] <=2021)]"
   ]
  },
  {
   "cell_type": "code",
   "execution_count": null,
   "id": "0eb38577",
   "metadata": {},
   "outputs": [],
   "source": [
    "#Confirming changes\n",
    "basics.tail(10)"
   ]
  },
  {
   "cell_type": "markdown",
   "id": "33bd8a6a",
   "metadata": {},
   "source": [
    "**Filtering only fictional movies(not from documentary genre)**"
   ]
  },
  {
   "cell_type": "code",
   "execution_count": null,
   "id": "fc9cdadf",
   "metadata": {},
   "outputs": [],
   "source": [
    "not_documentary = basics['genres'].str.contains('Documentary', case = False)\n"
   ]
  },
  {
   "cell_type": "code",
   "execution_count": null,
   "id": "190ef844",
   "metadata": {},
   "outputs": [],
   "source": [
    "Basics = basics[~not_documentary]"
   ]
  },
  {
   "cell_type": "code",
   "execution_count": null,
   "id": "635738ea",
   "metadata": {},
   "outputs": [],
   "source": [
    "#confirming changes\n",
    "Basics.tail(10)"
   ]
  },
  {
   "cell_type": "markdown",
   "id": "6d60fa81",
   "metadata": {},
   "source": [
    "**Saving the filtered basics dataset as a .csv file**"
   ]
  },
  {
   "cell_type": "code",
   "execution_count": 23,
   "id": "3699affd",
   "metadata": {},
   "outputs": [],
   "source": [
    "import os"
   ]
  },
  {
   "cell_type": "code",
   "execution_count": null,
   "id": "081035df",
   "metadata": {},
   "outputs": [],
   "source": [
    "import os \n",
    "os.makedirs('Movies_/', exist_ok =True)"
   ]
  },
  {
   "cell_type": "code",
   "execution_count": null,
   "id": "fa7f595b",
   "metadata": {},
   "outputs": [],
   "source": [
    "#Confirming folder was created\n",
    "os.listdir(\"Movies_Data/\")"
   ]
  },
  {
   "cell_type": "code",
   "execution_count": null,
   "id": "830df086",
   "metadata": {},
   "outputs": [],
   "source": [
    "Basics.to_csv (\"Movies_Data/title_Basics.csv.gz\", compression = \"gzip\",Findex = False)"
   ]
  },
  {
   "cell_type": "code",
   "execution_count": 47,
   "id": "dccd0e4e",
   "metadata": {},
   "outputs": [],
   "source": [
    "#Confirming saved file\n",
    "basics= pd.read_csv(\"Title_Akas.csv.gz\")\n",
    "basics.head()"
   ]
  },
  {
   "cell_type": "code",
   "execution_count": null,
   "id": "0b969275",
   "metadata": {},
   "outputs": [],
   "source": [
    "del Basics"
   ]
  },
  {
   "cell_type": "markdown",
   "id": "82f9149d",
   "metadata": {},
   "source": [
    "del basics"
   ]
  },
  {
   "cell_type": "code",
   "execution_count": null,
   "id": "6e571481",
   "metadata": {},
   "outputs": [],
   "source": [
    "del basics"
   ]
  },
  {
   "cell_type": "markdown",
   "id": "02b9569f",
   "metadata": {},
   "source": [
    "# Filtering the second dataset. title_akas."
   ]
  },
  {
   "cell_type": "code",
   "execution_count": null,
   "id": "dc4ca78c",
   "metadata": {},
   "outputs": [],
   "source": [
    "t_akas_url =\"https://datasets.imdbws.com/title.akas.tsv.gz\""
   ]
  },
  {
   "cell_type": "code",
   "execution_count": null,
   "id": "55ab9d62",
   "metadata": {},
   "outputs": [],
   "source": [
    "akas= pd.read_csv(t_akas_url, sep ='\\t', low_memory =False)\n"
   ]
  },
  {
   "cell_type": "code",
   "execution_count": null,
   "id": "5f96d162",
   "metadata": {},
   "outputs": [],
   "source": [
    "akas.head()"
   ]
  },
  {
   "cell_type": "markdown",
   "id": "a6ca9e09",
   "metadata": {},
   "source": [
    "#Filtering only US enteries."
   ]
  },
  {
   "cell_type": "code",
   "execution_count": null,
   "id": "6e2c3a6d",
   "metadata": {},
   "outputs": [],
   "source": [
    "akas =akas.loc[akas[\"region\"]==\"US\"]"
   ]
  },
  {
   "cell_type": "code",
   "execution_count": null,
   "id": "811829da",
   "metadata": {},
   "outputs": [],
   "source": [
    "#Confirming changes\n",
    "akas[akas]"
   ]
  },
  {
   "cell_type": "code",
   "execution_count": null,
   "id": "269a7cdc",
   "metadata": {},
   "outputs": [],
   "source": [
    "#Converting the \\N null value format into np.nan\n",
    "akas =akas.replace({\"\\\\N\":np.nan})"
   ]
  },
  {
   "cell_type": "code",
   "execution_count": null,
   "id": "b0b27075",
   "metadata": {},
   "outputs": [],
   "source": [
    "#Checking the null values\n",
    "akas.isnull().sum()"
   ]
  },
  {
   "cell_type": "markdown",
   "id": "246f3f0d",
   "metadata": {},
   "source": [
    "**Dropping the null values**"
   ]
  },
  {
   "cell_type": "code",
   "execution_count": null,
   "id": "fed1b917",
   "metadata": {},
   "outputs": [],
   "source": [
    "akas = akas.dropna(subset = ['genres', 'runtimeMinutes'])"
   ]
  },
  {
   "cell_type": "code",
   "execution_count": null,
   "id": "391b6497",
   "metadata": {},
   "outputs": [],
   "source": [
    "#Confirming changes\n",
    "akas.isnull().sum()"
   ]
  },
  {
   "cell_type": "markdown",
   "id": "fa353613",
   "metadata": {},
   "source": [
    "**Filtring the Basics table to include only the US tables filtered in the akas dataframe.**"
   ]
  },
  {
   "cell_type": "code",
   "execution_count": null,
   "id": "4d947b62",
   "metadata": {},
   "outputs": [],
   "source": [
    "keepers = Basics['tconst'].isin(akas[\"titleId\"])\n",
    "keepers.head()"
   ]
  },
  {
   "cell_type": "code",
   "execution_count": null,
   "id": "1b66358d",
   "metadata": {},
   "outputs": [],
   "source": [
    "Basics= Basics[keepers]\n",
    "Basics"
   ]
  }
 ],
 "metadata": {
  "kernelspec": {
   "display_name": "Python (dojo-env)",
   "language": "python",
   "name": "dojo-env"
  },
  "language_info": {
   "codemirror_mode": {
    "name": "ipython",
    "version": 3
   },
   "file_extension": ".py",
   "mimetype": "text/x-python",
   "name": "python",
   "nbconvert_exporter": "python",
   "pygments_lexer": "ipython3",
   "version": "3.7.12"
  },
  "toc": {
   "base_numbering": 1,
   "nav_menu": {},
   "number_sections": true,
   "sideBar": true,
   "skip_h1_title": false,
   "title_cell": "Table of Contents",
   "title_sidebar": "Contents",
   "toc_cell": false,
   "toc_position": {},
   "toc_section_display": true,
   "toc_window_display": false
  }
 },
 "nbformat": 4,
 "nbformat_minor": 5
}
